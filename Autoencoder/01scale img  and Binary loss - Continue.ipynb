{
 "cells": [
  {
   "cell_type": "code",
   "execution_count": 1,
   "metadata": {
    "collapsed": true
   },
   "outputs": [],
   "source": [
    "import numpy as np\n",
    "from matplotlib import pyplot as plt\n",
    "from scipy.misc import imread\n",
    "from PIL import Image\n",
    "%matplotlib inline"
   ]
  },
  {
   "cell_type": "code",
   "execution_count": 2,
   "metadata": {
    "collapsed": true
   },
   "outputs": [],
   "source": [
    "with open('./im2latex_train.lst','rb') as file:\n",
    "    match = file.readlines()"
   ]
  },
  {
   "cell_type": "code",
   "execution_count": 3,
   "metadata": {},
   "outputs": [
    {
     "data": {
      "text/plain": [
       "['1', '60ee748793', 'basic\\n']"
      ]
     },
     "execution_count": 3,
     "metadata": {},
     "output_type": "execute_result"
    }
   ],
   "source": [
    "match[0].decode('utf-8').split(' ')"
   ]
  },
  {
   "cell_type": "code",
   "execution_count": 4,
   "metadata": {},
   "outputs": [
    {
     "name": "stdout",
     "output_type": "stream",
     "text": [
      "Number of data:  83884\n"
     ]
    }
   ],
   "source": [
    "N = len(match)\n",
    "print (\"Number of data: \",N )"
   ]
  },
  {
   "cell_type": "markdown",
   "metadata": {},
   "source": [
    "**5000 train, 1000 test**"
   ]
  },
  {
   "cell_type": "code",
   "execution_count": 5,
   "metadata": {
    "collapsed": true
   },
   "outputs": [],
   "source": [
    "train_match_dict = {e.decode('utf-8').split(' ')[0] + '.png':e.decode('utf-8').split(' ')[1] + '.png' for e in match[:5000]}"
   ]
  },
  {
   "cell_type": "code",
   "execution_count": 6,
   "metadata": {
    "collapsed": true
   },
   "outputs": [],
   "source": [
    "test_match_dict = {e.decode('utf-8').split(' ')[0] + '.png':e.decode('utf-8').split(' ')[1] + '.png' for e in match[5000:6000]}"
   ]
  },
  {
   "cell_type": "code",
   "execution_count": 7,
   "metadata": {},
   "outputs": [
    {
     "data": {
      "text/plain": [
       "5000"
      ]
     },
     "execution_count": 7,
     "metadata": {},
     "output_type": "execute_result"
    }
   ],
   "source": [
    "len(train_match_dict.items())"
   ]
  },
  {
   "cell_type": "markdown",
   "metadata": {},
   "source": [
    "### To binary"
   ]
  },
  {
   "cell_type": "code",
   "execution_count": 8,
   "metadata": {
    "collapsed": true
   },
   "outputs": [],
   "source": [
    "threshold = 150 "
   ]
  },
  {
   "cell_type": "code",
   "execution_count": 9,
   "metadata": {},
   "outputs": [
    {
     "data": {
      "image/png": "[encoded data removed]",
      "text/plain": [
       "<PIL.PngImagePlugin.PngImageFile image mode=RGB size=120x50 at 0x110B3F748>"
      ]
     },
     "execution_count": 9,
     "metadata": {},
     "output_type": "execute_result"
    }
   ],
   "source": [
    "img = Image.open('./IM2LATEX-100K-HANDWRITTEN/images/' + '81680.png')\n",
    "img_copy = np.copy(img)\n",
    "img_copy[img_copy <= threshold] = 0\n",
    "img_copy[img_copy > threshold] = 255\n",
    "# fig,ax = plt.subplots(1,2,figsize = (20,5))\n",
    "img\n",
    "# ax[1].imshow(img_copy)\n",
    "# plt.show()"
   ]
  },
  {
   "cell_type": "code",
   "execution_count": 10,
   "metadata": {},
   "outputs": [
    {
     "data": {
      "image/png": "[encoded data removed]",
      "text/plain": [
       "<PIL.Image.Image image mode=RGB size=120x50 at 0x110AEDF60>"
      ]
     },
     "execution_count": 10,
     "metadata": {},
     "output_type": "execute_result"
    }
   ],
   "source": [
    "Image.fromarray(img_copy)"
   ]
  },
  {
   "cell_type": "code",
   "execution_count": 11,
   "metadata": {},
   "outputs": [
    {
     "data": {
      "image/png": "[encoded data removed]",
      "text/plain": [
       "<PIL.PngImagePlugin.PngImageFile image mode=RGB size=224x64 at 0x110B2A390>"
      ]
     },
     "execution_count": 11,
     "metadata": {},
     "output_type": "execute_result"
    }
   ],
   "source": [
    "img2 = Image.open('./formula_images_processed/' + '4b868688b1.png')\n",
    "img2_copy = np.copy(img2)\n",
    "img2_copy[img2_copy <= threshold] = 0\n",
    "img2_copy[img2_copy > threshold] = 255\n",
    "img2\n",
    "# fig,ax = plt.subplots(1,2,figsize = (20,5))\n",
    "# ax[0].imshow(img2)\n",
    "# ax[1].imshow(img2_copy)\n",
    "# plt.show()"
   ]
  },
  {
   "cell_type": "code",
   "execution_count": 12,
   "metadata": {},
   "outputs": [
    {
     "data": {
      "image/png": "[encoded data removed]",
      "text/plain": [
       "<PIL.Image.Image image mode=RGB size=224x64 at 0x110AED780>"
      ]
     },
     "execution_count": 12,
     "metadata": {},
     "output_type": "execute_result"
    }
   ],
   "source": [
    "Image.fromarray(img2_copy)"
   ]
  },
  {
   "cell_type": "markdown",
   "metadata": {},
   "source": [
    "### Resize"
   ]
  },
  {
   "cell_type": "markdown",
   "metadata": {},
   "source": [
    "**It is a Grey scale picture = RGB 3 channel the same both for handwritten and pdf**"
   ]
  },
  {
   "cell_type": "code",
   "execution_count": 13,
   "metadata": {},
   "outputs": [
    {
     "name": "stderr",
     "output_type": "stream",
     "text": [
      "/Users/sophiasi/anaconda/envs/py36/lib/python3.6/site-packages/ipykernel/__main__.py:1: DeprecationWarning: `imread` is deprecated!\n",
      "`imread` is deprecated in SciPy 1.0.0, and will be removed in 1.2.0.\n",
      "Use ``imageio.imread`` instead.\n",
      "  if __name__ == '__main__':\n"
     ]
    },
    {
     "data": {
      "text/plain": [
       "<matplotlib.image.AxesImage at 0x110d5de80>"
      ]
     },
     "execution_count": 13,
     "metadata": {},
     "output_type": "execute_result"
    },
    {
     "data": {
      "image/png": "[encoded data removed]",
      "text/plain": [
       "<matplotlib.figure.Figure at 0x110b2a1d0>"
      ]
     },
     "metadata": {},
     "output_type": "display_data"
    }
   ],
   "source": [
    "img = imread('./IM2LATEX-100K-HANDWRITTEN/images/' + '81680.png')\n",
    "plt.imshow(img)"
   ]
  },
  {
   "cell_type": "code",
   "execution_count": 14,
   "metadata": {},
   "outputs": [
    {
     "data": {
      "text/plain": [
       "array([  0,   1,   2,   3,   5,   7,   8,   9,  10,  11,  12,  13,  14,\n",
       "        17,  18,  21,  22,  24,  25,  26,  27,  28,  29,  30,  32,  36,\n",
       "        37,  38,  40,  41,  44,  45,  47,  49,  50,  51,  52,  53,  54,\n",
       "        55,  57,  59,  60,  62,  64,  66,  67,  68,  70,  71,  74,  75,\n",
       "        76,  78,  79,  80,  83,  84,  85,  88,  89,  91,  92,  94,  97,\n",
       "        98, 102, 103, 104, 106, 108, 109, 110, 112, 113, 114, 115, 116,\n",
       "       119, 121, 122, 123, 124, 126, 127, 132, 134, 135, 136, 137, 138,\n",
       "       139, 142, 143, 144, 147, 148, 149, 150, 153, 154, 155, 157, 158,\n",
       "       159, 160, 163, 164, 165, 169, 170, 171, 173, 174, 176, 177, 179,\n",
       "       180, 182, 183, 184, 185, 187, 188, 189, 190, 191, 192, 193, 194,\n",
       "       196, 197, 199, 200, 201, 202, 204, 205, 207, 208, 209, 211, 212,\n",
       "       213, 214, 215, 217, 218, 220, 221, 222, 223, 224, 226, 228, 229,\n",
       "       230, 231, 232, 233, 234, 235, 236, 238, 239, 240, 241, 242, 243,\n",
       "       244, 245, 246, 247, 248, 249, 250, 251, 252, 253, 254, 255], dtype=uint8)"
      ]
     },
     "execution_count": 14,
     "metadata": {},
     "output_type": "execute_result"
    }
   ],
   "source": [
    "np.unique(img)"
   ]
  },
  {
   "cell_type": "code",
   "execution_count": 15,
   "metadata": {},
   "outputs": [
    {
     "name": "stderr",
     "output_type": "stream",
     "text": [
      "/Users/sophiasi/anaconda/envs/py36/lib/python3.6/site-packages/ipykernel/__main__.py:1: DeprecationWarning: `imread` is deprecated!\n",
      "`imread` is deprecated in SciPy 1.0.0, and will be removed in 1.2.0.\n",
      "Use ``imageio.imread`` instead.\n",
      "  if __name__ == '__main__':\n"
     ]
    },
    {
     "data": {
      "text/plain": [
       "<matplotlib.image.AxesImage at 0x110eedb70>"
      ]
     },
     "execution_count": 15,
     "metadata": {},
     "output_type": "execute_result"
    },
    {
     "data": {
      "image/png": "[encoded data removed]",
      "text/plain": [
       "<matplotlib.figure.Figure at 0x110dc9898>"
      ]
     },
     "metadata": {},
     "output_type": "display_data"
    }
   ],
   "source": [
    "img2 = imread('./formula_images_processed/' + '4b868688b1.png')\n",
    "plt.imshow(img2)"
   ]
  },
  {
   "cell_type": "code",
   "execution_count": 16,
   "metadata": {},
   "outputs": [
    {
     "data": {
      "text/plain": [
       "array([  0,   1,   2,   3,   4,   5,   6,   7,   8,   9,  10,  11,  12,\n",
       "        13,  14,  15,  16,  17,  18,  19,  20,  22,  23,  26,  27,  28,\n",
       "        29,  30,  31,  32,  33,  34,  36,  38,  39,  40,  41,  42,  43,\n",
       "        44,  45,  46,  49,  50,  51,  52,  53,  54,  55,  56,  57,  58,\n",
       "        59,  60,  61,  62,  63,  64,  65,  66,  67,  68,  69,  70,  71,\n",
       "        72,  73,  74,  75,  76,  77,  79,  80,  81,  82,  84,  86,  88,\n",
       "        89,  93,  96,  98,  99, 100, 101, 102, 103, 104, 105, 106, 107,\n",
       "       108, 109, 110, 111, 112, 113, 114, 115, 116, 117, 118, 119, 120,\n",
       "       121, 122, 123, 124, 125, 126, 127, 128, 129, 130, 131, 132, 133,\n",
       "       134, 135, 137, 138, 139, 140, 141, 143, 144, 145, 146, 147, 148,\n",
       "       150, 151, 153, 154, 156, 158, 159, 161, 162, 164, 166, 167, 169,\n",
       "       170, 171, 173, 174, 175, 176, 177, 178, 179, 180, 181, 182, 183,\n",
       "       184, 185, 186, 187, 188, 189, 190, 191, 192, 193, 194, 195, 196,\n",
       "       198, 199, 202, 205, 206, 210, 211, 213, 214, 218, 220, 221, 223,\n",
       "       224, 225, 227, 229, 230, 231, 232, 233, 234, 235, 236, 237, 238,\n",
       "       239, 240, 241, 242, 243, 244, 245, 246, 247, 248, 249, 250, 251,\n",
       "       252, 253, 254, 255], dtype=uint8)"
      ]
     },
     "execution_count": 16,
     "metadata": {},
     "output_type": "execute_result"
    }
   ],
   "source": [
    "np.unique(img2)"
   ]
  },
  {
   "cell_type": "markdown",
   "metadata": {},
   "source": [
    "**trim the white border and resize**"
   ]
  },
  {
   "cell_type": "code",
   "execution_count": 17,
   "metadata": {
    "collapsed": true
   },
   "outputs": [],
   "source": [
    "from PIL import Image, ImageChops\n",
    "\n",
    "def trim(im):\n",
    "\n",
    "    bg = Image.new(im.mode, im.size, (255,255,255))\n",
    "    diff = ImageChops.difference(im, bg)\n",
    "#     diff = ImageChops.add(diff, diff, 2, 0)\n",
    "    bbox = diff.getbbox()\n",
    "    if bbox:\n",
    "        return np.array(im.crop(bbox))"
   ]
  },
  {
   "cell_type": "markdown",
   "metadata": {},
   "source": [
    "**Max Size**"
   ]
  },
  {
   "cell_type": "code",
   "execution_count": null,
   "metadata": {
    "collapsed": true
   },
   "outputs": [],
   "source": [
    "def max_size(train_match_dict):\n",
    "    '''\n",
    "    return max size after trimming the images\n",
    "    \n",
    "    '''\n",
    "    \n",
    "    #max size after trim\n",
    "    width_arr, height_arr = [], []\n",
    "    \n",
    "    for hw in train_match_dict.keys():\n",
    "        \n",
    "        #load matched filenames\n",
    "        pr = train_match_dict[hw]\n",
    "        \n",
    "        #some may not have corresponding images\n",
    "        try:\n",
    "            #print\n",
    "            print_img = Image.open('./formula_images_processed/'+pr)\n",
    "            print_img_trim = trim(print_img)\n",
    "\n",
    "            #handwritten\n",
    "            hw_img = Image.open('./IM2LATEX-100K-HANDWRITTEN/images/'+hw)\n",
    "            hw_img_trim = trim(hw_img)\n",
    "\n",
    "            width_arr.append(print_img_trim.shape[1])\n",
    "            width_arr.append(hw_img_trim.shape[1])\n",
    "            \n",
    "            height_arr.append(print_img_trim.shape[0])\n",
    "            height_arr.append(hw_img_trim.shape[0])\n",
    "#             #update max size\n",
    "#             max_width = max([max_width,print_img_trim.shape[1], hw_img_trim.shape[1]])\n",
    "#             max_height = max([max_height,print_img_trim.shape[0], hw_img_trim.shape[0]])\n",
    "        except:\n",
    "            pass\n",
    "    \n",
    "    return width_arr, height_arr"
   ]
  },
  {
   "cell_type": "code",
   "execution_count": null,
   "metadata": {
    "collapsed": true
   },
   "outputs": [],
   "source": [
    "width_arr, height_arr = max_size(train_match_dict)"
   ]
  },
  {
   "cell_type": "code",
   "execution_count": null,
   "metadata": {
    "collapsed": true
   },
   "outputs": [],
   "source": [
    "fig, ax = plt.subplots(1,2, figsize = (20,5))\n",
    "ax[0].hist(width_arr,bins = 100)\n",
    "ax[0].set_title(\"Histogram of image width\")\n",
    "ax[1].hist(height_arr,bins = 100)\n",
    "ax[1].set_title(\"Histogram of image height\")\n",
    "plt.show()"
   ]
  },
  {
   "cell_type": "code",
   "execution_count": null,
   "metadata": {
    "collapsed": true
   },
   "outputs": [],
   "source": [
    "print (max_width, max_height)"
   ]
  },
  {
   "cell_type": "markdown",
   "metadata": {},
   "source": [
    "**pad images**"
   ]
  },
  {
   "cell_type": "code",
   "execution_count": 18,
   "metadata": {
    "collapsed": true
   },
   "outputs": [],
   "source": [
    "def pad_img(max_width, max_height, img):\n",
    "    height, width = img.shape[0], img.shape[1]\n",
    "    height_diff, width_diff = max_height - height, max_width - width\n",
    "    npad = ((int(height_diff/2), height_diff - int(height_diff/2) ), (int(width_diff/2), width_diff - int(width_diff/2) ), (0, 0))\n",
    "    img_padded = np.lib.pad(img, npad, 'constant', constant_values=255)\n",
    "    return img_padded"
   ]
  },
  {
   "cell_type": "code",
   "execution_count": 19,
   "metadata": {
    "collapsed": true
   },
   "outputs": [],
   "source": [
    "def to_bin(img, up):\n",
    "    img_copy = np.copy(img)\n",
    "    img_copy[img_copy <= threshold] = 0\n",
    "    img_copy[img_copy > threshold] = up\n",
    "    return img_copy"
   ]
  },
  {
   "cell_type": "code",
   "execution_count": 20,
   "metadata": {
    "collapsed": true
   },
   "outputs": [],
   "source": [
    "def print_random(train_match_dict, max_width, max_height):\n",
    "    \n",
    "    #load matched filenames\n",
    "    rand_ind = np.random.randint(0,len(train_match_dict.items()))\n",
    "    hw = list(train_match_dict.keys())[rand_ind]\n",
    "    pr = train_match_dict[hw]\n",
    "    \n",
    "    try:\n",
    "        #print\n",
    "        print_img = Image.open('./formula_images_processed/'+pr)\n",
    "        print_img_trim = trim(print_img)\n",
    "        print_img_pad = pad_img(max_width, max_height, print_img_trim)\n",
    "        print_img_bin = to_bin(print_img_pad,up=255)\n",
    "        \n",
    "\n",
    "        #handwritten\n",
    "        hw_img = Image.open('./IM2LATEX-100K-HANDWRITTEN/images/'+hw)\n",
    "        hw_img_trim = trim(hw_img)\n",
    "        hw_img_pad = pad_img(max_width, max_height, hw_img_trim)\n",
    "        hw_img_bin = to_bin(hw_img_pad,up=255)\n",
    "        \n",
    "        #plot\n",
    "        fig,ax = plt.subplots(4,2,figsize = (20,15))\n",
    "        \n",
    "        ax[0,0].imshow(hw_img)\n",
    "        ax[0,1].imshow(print_img)\n",
    "        ax[1,0].imshow(hw_img_trim)\n",
    "        ax[1,1].imshow(print_img_trim)\n",
    "        ax[2,0].imshow(hw_img_pad)\n",
    "        ax[2,1].imshow(print_img_pad)\n",
    "        ax[3,0].imshow(hw_img_bin)\n",
    "        ax[3,1].imshow(print_img_bin)\n",
    "        \n",
    "        print (hw,pr)\n",
    "        return hw_img_trim\n",
    "    except:\n",
    "        print (\"Image size exceed max size\")\n",
    "    \n",
    "    "
   ]
  },
  {
   "cell_type": "code",
   "execution_count": 21,
   "metadata": {},
   "outputs": [
    {
     "name": "stdout",
     "output_type": "stream",
     "text": [
      "3446.png 41c9cbb9c3.png\n"
     ]
    },
    {
     "data": {
      "image/png": "[encoded data removed]",
      "text/plain": [
       "<matplotlib.figure.Figure at 0x110e84978>"
      ]
     },
     "metadata": {},
     "output_type": "display_data"
    }
   ],
   "source": [
    "test = print_random(train_match_dict, 500,50)"
   ]
  },
  {
   "cell_type": "markdown",
   "metadata": {},
   "source": [
    "###  Create train data "
   ]
  },
  {
   "cell_type": "code",
   "execution_count": 22,
   "metadata": {
    "collapsed": true
   },
   "outputs": [],
   "source": [
    "def trim_pad(train_match_dict, max_width, max_height):\n",
    "    \n",
    "    hw_imgs, print_imgs = [], []\n",
    "    for i,hw in enumerate(list(train_match_dict.keys())):\n",
    "        \n",
    "        if i%1000 == 0:\n",
    "            print (\"load \",i,\" data\")\n",
    "        \n",
    "        #load matched filenames\n",
    "        pr = train_match_dict[hw]\n",
    "        \n",
    "        try:\n",
    "            #print\n",
    "            print_img = Image.open('./formula_images_processed/'+pr)\n",
    "            print_img_trim = trim(print_img)\n",
    "            print_img_pad = pad_img(max_width, max_height, print_img_trim)\n",
    "            print_img_bin = to_bin(print_img_pad,up=1)\n",
    "\n",
    "\n",
    "            #handwritten\n",
    "            hw_img = Image.open('./IM2LATEX-100K-HANDWRITTEN/images/'+hw)\n",
    "            hw_img_trim = trim(hw_img)\n",
    "            hw_img_pad = pad_img(max_width, max_height, hw_img_trim)\n",
    "            hw_img_bin = to_bin(hw_img_pad,up=1)\n",
    "        \n",
    "#             #print\n",
    "#             print_img = Image.open('./formula_images_processed/'+pr)\n",
    "#             print_img_trim = trim(print_img)\n",
    "#             print_img_pad = pad_img(max_width, max_height, print_img_trim)\n",
    "\n",
    "#             #handwritten\n",
    "#             hw_img = Image.open('./IM2LATEX-100K-HANDWRITTEN/images/'+hw)\n",
    "#             hw_img_trim = trim(hw_img)\n",
    "#             hw_img_pad = pad_img(max_width, max_height, hw_img_trim)\n",
    "            \n",
    "            #append the first channel : they are the same\n",
    "            print_imgs.append(print_img_bin[:,:,0])\n",
    "            hw_imgs.append(hw_img_bin[:,:,0])\n",
    "\n",
    "        except:\n",
    "            #image size exceed max size\n",
    "            pass\n",
    "        \n",
    "        \n",
    "        \n",
    "        \n",
    "    return print_imgs, hw_imgs"
   ]
  },
  {
   "cell_type": "code",
   "execution_count": 23,
   "metadata": {
    "collapsed": true
   },
   "outputs": [],
   "source": [
    "max_width, max_height = 300, 50"
   ]
  },
  {
   "cell_type": "code",
   "execution_count": 24,
   "metadata": {},
   "outputs": [
    {
     "name": "stdout",
     "output_type": "stream",
     "text": [
      "load  0  data\n",
      "load  1000  data\n",
      "load  2000  data\n",
      "load  3000  data\n",
      "load  4000  data\n"
     ]
    }
   ],
   "source": [
    "print_imgs, hw_imgs = trim_pad(train_match_dict, max_width, max_height)"
   ]
  },
  {
   "cell_type": "code",
   "execution_count": 25,
   "metadata": {},
   "outputs": [
    {
     "data": {
      "text/plain": [
       "(2192, 2192)"
      ]
     },
     "execution_count": 25,
     "metadata": {},
     "output_type": "execute_result"
    }
   ],
   "source": [
    "len(print_imgs), len(hw_imgs)"
   ]
  },
  {
   "cell_type": "code",
   "execution_count": 26,
   "metadata": {
    "collapsed": true
   },
   "outputs": [],
   "source": [
    "import torch\n",
    "import torch.utils.data as data_utils\n",
    "from torch.autograd import Variable"
   ]
  },
  {
   "cell_type": "markdown",
   "metadata": {},
   "source": [
    "**array of 2d to 3d**"
   ]
  },
  {
   "cell_type": "code",
   "execution_count": 27,
   "metadata": {
    "collapsed": true
   },
   "outputs": [],
   "source": [
    "print_imgs = np.array(print_imgs, dtype = 'float')\n",
    "hw_imgs = np.array(hw_imgs, dtype = 'float')"
   ]
  },
  {
   "cell_type": "code",
   "execution_count": 28,
   "metadata": {},
   "outputs": [
    {
     "data": {
      "text/plain": [
       "(2192, 1, 50, 300)"
      ]
     },
     "execution_count": 28,
     "metadata": {},
     "output_type": "execute_result"
    }
   ],
   "source": [
    "print_imgs_3d = np.concatenate([arr[np.newaxis] for arr in print_imgs])\n",
    "print_imgs_3d = np.expand_dims(print_imgs_3d, axis=1)\n",
    "print_imgs_3d.shape"
   ]
  },
  {
   "cell_type": "code",
   "execution_count": 29,
   "metadata": {},
   "outputs": [
    {
     "data": {
      "text/plain": [
       "(2192, 1, 50, 300)"
      ]
     },
     "execution_count": 29,
     "metadata": {},
     "output_type": "execute_result"
    }
   ],
   "source": [
    "hw_imgs_3d = np.concatenate([arr[np.newaxis] for arr in hw_imgs])\n",
    "hw_imgs_3d = np.expand_dims(hw_imgs_3d, axis=1)\n",
    "hw_imgs_3d.shape"
   ]
  },
  {
   "cell_type": "code",
   "execution_count": 30,
   "metadata": {
    "collapsed": true
   },
   "outputs": [],
   "source": [
    "print_imgs_3d = print_imgs_3d[:2160,:,:,:]\n",
    "hw_imgs_3d = hw_imgs_3d[:2160,:,:,:]"
   ]
  },
  {
   "cell_type": "code",
   "execution_count": 31,
   "metadata": {
    "collapsed": true
   },
   "outputs": [],
   "source": [
    "features = torch.from_numpy(hw_imgs_3d).type(torch.FloatTensor)\n",
    "targets = torch.from_numpy(print_imgs_3d).type(torch.FloatTensor)"
   ]
  },
  {
   "cell_type": "code",
   "execution_count": 32,
   "metadata": {
    "collapsed": true
   },
   "outputs": [],
   "source": [
    "batch_size = 40 #整数倍个数"
   ]
  },
  {
   "cell_type": "code",
   "execution_count": 33,
   "metadata": {
    "collapsed": true
   },
   "outputs": [],
   "source": [
    "train = data_utils.TensorDataset(features, targets)\n",
    "train_loader = data_utils.DataLoader(train, batch_size=batch_size, shuffle=True)"
   ]
  },
  {
   "cell_type": "markdown",
   "metadata": {},
   "source": [
    "### Train DVE"
   ]
  },
  {
   "cell_type": "code",
   "execution_count": 34,
   "metadata": {
    "collapsed": true
   },
   "outputs": [],
   "source": [
    "import torch\n",
    "import torch.nn as nn\n",
    "import torch.utils as utils\n",
    "from torch.autograd import Variable\n",
    "import torchvision.datasets as dset\n",
    "import torchvision.transforms as transforms"
   ]
  },
  {
   "cell_type": "code",
   "execution_count": 35,
   "metadata": {
    "collapsed": true
   },
   "outputs": [],
   "source": [
    "epoch = 10\n",
    "# batch_size = 20\n",
    "learning_rate = 0.001"
   ]
  },
  {
   "cell_type": "code",
   "execution_count": 43,
   "metadata": {
    "collapsed": true
   },
   "outputs": [],
   "source": [
    "# Encoder \n",
    "# torch.nn.Conv2d(in_channels, out_channels, kernel_size,\n",
    "#                 stride=1, padding=0, dilation=1,\n",
    "#                 groups=1, bias=True)\n",
    "# batch x 1 x 28 x 28 -> batch x 512\n",
    "\n",
    "class Encoder(nn.Module):\n",
    "    def __init__(self):\n",
    "        super(Encoder,self).__init__()\n",
    "        self.layer1 = nn.Sequential(\n",
    "                        nn.Conv2d(1,32,3,padding=1),   # batch x 16 x max_height x max_weight\n",
    "                        nn.ReLU(),\n",
    "                        nn.BatchNorm2d(32),\n",
    "                        nn.Conv2d(32,32,3,padding=1),   # batch x 16 x max_height x max_weight\n",
    "                        nn.ReLU(),\n",
    "                        nn.BatchNorm2d(32),\n",
    "                        nn.Conv2d(32,64,3,padding=1),  # batch x 32 x max_height x max_weight\n",
    "                        nn.ReLU(),\n",
    "                        nn.BatchNorm2d(64),\n",
    "                        nn.Conv2d(64,64,3,padding=1),  # batch x 32 x max_height x max_weight\n",
    "                        nn.ReLU(),\n",
    "                        nn.BatchNorm2d(64),\n",
    "                        nn.MaxPool2d(2,2)   # batch x 64 x max_height x max_weight / 4\n",
    "        )\n",
    "#         self.layer2 = nn.Sequential(\n",
    "#                         nn.Conv2d(64,128,3,padding=1),  # batch x 64 x 14 x 14\n",
    "#                         nn.ReLU(),\n",
    "#                         nn.BatchNorm2d(128),\n",
    "#                         nn.Conv2d(128,128,3,padding=1),  # batch x 64 x 14 x 14\n",
    "#                         nn.ReLU(),\n",
    "#                         nn.BatchNorm2d(128),\n",
    "#                         nn.MaxPool2d(2,2),\n",
    "#                         nn.Conv2d(128,256,3,padding=1),  # batch x 64 x 7 x 7\n",
    "#                         nn.ReLU()\n",
    "#         )\n",
    "        \n",
    "                \n",
    "    def forward(self,x):\n",
    "        out = self.layer1(x)\n",
    "#         print (out.size())\n",
    "#         out = self.layer2(out)\n",
    "        out = out.view(batch_size, -1)\n",
    "        return out\n",
    "    \n",
    "encoder = Encoder()"
   ]
  },
  {
   "cell_type": "code",
   "execution_count": 45,
   "metadata": {},
   "outputs": [],
   "source": [
    "# Decoder \n",
    "# torch.nn.ConvTranspose2d(in_channels, out_channels, kernel_size,\n",
    "#                          stride=1, padding=0, output_padding=0,\n",
    "#                          groups=1, bias=True)\n",
    "# output_height = (height-1)*stride + kernel_size - 2*padding + output_padding\n",
    "# batch x 512 -> batch x 1 x 28 x 28\n",
    "\n",
    "class Decoder(nn.Module):\n",
    "    def __init__(self):\n",
    "        super(Decoder,self).__init__()\n",
    "#         self.layer1 = nn.Sequential(\n",
    "#                         nn.ConvTranspose2d(256,128,3,2,1,1),\n",
    "#                         nn.ReLU(),\n",
    "#                         nn.BatchNorm2d(128),\n",
    "#                         nn.ConvTranspose2d(128,128,3,1,1),\n",
    "#                         nn.ReLU(),\n",
    "#                         nn.BatchNorm2d(128),\n",
    "#                         nn.ConvTranspose2d(128,64,3,1,1),\n",
    "#                         nn.ReLU(),\n",
    "#                         nn.BatchNorm2d(64),\n",
    "#                         nn.ConvTranspose2d(64,64,3,1,1),\n",
    "#                         nn.ReLU(),\n",
    "#                         nn.BatchNorm2d(64)\n",
    "#         )\n",
    "        self.layer2 = nn.Sequential(\n",
    "                        nn.ConvTranspose2d(64,32,3,1,1),\n",
    "                        nn.ReLU(),\n",
    "                        nn.BatchNorm2d(32),\n",
    "                        nn.ConvTranspose2d(32,32,3,1,1),\n",
    "                        nn.ReLU(),\n",
    "                        nn.BatchNorm2d(32),\n",
    "                        nn.ConvTranspose2d(32,1,3,2,1,1),\n",
    "                        nn.ReLU()\n",
    "        )\n",
    "        \n",
    "    def forward(self,x):\n",
    "        print (x.size(),int(max_height/2),int(max_width/2))\n",
    "        out = x.view(batch_size,64,int(max_height/2),int(max_width/2))\n",
    "#         out = self.layer1(out)\n",
    "        out = self.layer2(out)\n",
    "        return out\n",
    "\n",
    "decoder = Decoder()"
   ]
  },
  {
   "cell_type": "code",
   "execution_count": 46,
   "metadata": {},
   "outputs": [
    {
     "name": "stdout",
     "output_type": "stream",
     "text": [
      "torch.Size([40, 240000]) 25 150\n",
      "torch.Size([40, 1, 50, 300])\n"
     ]
    }
   ],
   "source": [
    "# Check output of autoencoder\n",
    "#ignore\n",
    "for image,label in train_loader:\n",
    "    image = Variable(image)\n",
    "    \n",
    "    output = encoder(image)\n",
    "    output = decoder(output)\n",
    "    print(output.size())\n",
    "    break"
   ]
  },
  {
   "cell_type": "code",
   "execution_count": null,
   "metadata": {
    "collapsed": true
   },
   "outputs": [],
   "source": [
    "# Noise\n",
    "#ignore\n",
    "noise = torch.rand(batch_size,1,28,28)"
   ]
  },
  {
   "cell_type": "code",
   "execution_count": 367,
   "metadata": {
    "collapsed": true
   },
   "outputs": [],
   "source": [
    "# loss func and optimizer\n",
    "# we compute reconstruction after decoder so use Mean Squared Error\n",
    "# In order to use multi parameters with one optimizer,\n",
    "# concat parameters after changing into list\n",
    "\n",
    "parameters = list(encoder.parameters())+ list(decoder.parameters())\n",
    "loss_func = nn.BCEWithLogitsLoss(weight=0.1*torch.ones(40,1,50,300)) #40 is batch size\n",
    "# m = nn.Sigmoid()\n",
    "optimizer = torch.optim.Adam(parameters, lr=learning_rate)"
   ]
  },
  {
   "cell_type": "code",
   "execution_count": 368,
   "metadata": {
    "scrolled": true
   },
   "outputs": [
    {
     "name": "stdout",
     "output_type": "stream",
     "text": [
      "i 0.0669711\n",
      "i 0.0670275\n",
      "i 0.0659771\n",
      "i 0.0652752\n",
      "i 0.0646452\n",
      "i 0.0640354\n",
      "i 0.0634396\n",
      "i 0.0628764\n",
      "i 0.0623596\n",
      "i 0.0617148\n",
      "i 0.0614523\n",
      "i 0.0608557\n",
      "i 0.060338\n",
      "i 0.0597419\n",
      "i 0.059331\n",
      "i 0.0587418\n",
      "i 0.0582503\n",
      "i 0.0578348\n",
      "i 0.0573265\n",
      "i 0.056864\n",
      "i 0.0563885\n",
      "i 0.0560859\n",
      "i 0.055491\n",
      "i 0.0550824\n",
      "i 0.0546494\n",
      "i 0.0543248\n",
      "i 0.0539544\n",
      "i 0.0536007\n",
      "i 0.0532652\n",
      "i 0.0527231\n",
      "i 0.0523514\n",
      "i 0.0520944\n",
      "i 0.0515517\n",
      "i 0.0511115\n",
      "i 0.0511176\n",
      "i 0.050666\n",
      "i 0.050351\n",
      "i 0.0500816\n",
      "i 0.0496794\n",
      "i 0.0496286\n",
      "i 0.0492746\n",
      "i 0.0487951\n",
      "i 0.0488936\n",
      "i 0.0486606\n",
      "i 0.0483163\n",
      "i 0.0480904\n",
      "i 0.047915\n",
      "i 0.0477528\n",
      "i 0.047526\n",
      "i 0.0472998\n",
      "i 0.047077\n",
      "i 0.0473448\n",
      "i 0.0470505\n",
      "i 0.0465657\n"
     ]
    }
   ],
   "source": [
    "loss_arr = []\n",
    "for i in range(1):\n",
    "    for image,label in train_loader:\n",
    "  \n",
    "        optimizer.zero_grad()\n",
    "        output = encoder(Variable(image))\n",
    "        output = decoder(output)\n",
    "        \n",
    "        loss = loss_func(output,Variable(label))\n",
    "        loss.backward()\n",
    "        optimizer.step()       \n",
    "                \n",
    "#     torch.save([encoder,decoder],'./model/deno_autoencoder.pkl')\n",
    "        print(\"i\",loss.data.numpy()[0])\n",
    "        loss_arr.append(loss.data.numpy()[0])"
   ]
  },
  {
   "cell_type": "code",
   "execution_count": 369,
   "metadata": {
    "collapsed": true
   },
   "outputs": [],
   "source": [
    "def to_RGB(img):\n",
    "    img[img <=0.5] = 0\n",
    "    img[img > 0.5] = 255\n",
    "    return img"
   ]
  },
  {
   "cell_type": "code",
   "execution_count": 370,
   "metadata": {
    "collapsed": true
   },
   "outputs": [],
   "source": [
    "def compare_plot(label, image, output):\n",
    "        \n",
    "    img = label[0]\n",
    "    input_img = image[0]\n",
    "    output_img = output[0]\n",
    "\n",
    "    origin = img.numpy().astype(int)\n",
    "    input_img = input_img.numpy().astype(int)\n",
    "    output_img = to_RGB(output_img.data.numpy().astype(int))\n",
    "\n",
    "    plt.imshow(origin[0,:,:],cmap='gray')\n",
    "    plt.show()\n",
    "\n",
    "    plt.imshow(input_img[0,:,:],cmap='gray')\n",
    "    plt.show()\n",
    "\n",
    "    plt.imshow(output_img[0,:,:],cmap=\"gray\")\n",
    "    plt.show()"
   ]
  },
  {
   "cell_type": "code",
   "execution_count": 371,
   "metadata": {},
   "outputs": [
    {
     "data": {
      "image/png": "[encoded data removed]",
      "text/plain": [
       "<matplotlib.figure.Figure at 0x11b223550>"
      ]
     },
     "metadata": {},
     "output_type": "display_data"
    }
   ],
   "source": [
    "plt.plot(range(len(loss_arr)), loss_arr)\n",
    "plt.show()"
   ]
  },
  {
   "cell_type": "code",
   "execution_count": 372,
   "metadata": {},
   "outputs": [
    {
     "data": {
      "image/png": "[encoded data removed]",
      "text/plain": [
       "<matplotlib.figure.Figure at 0x114895518>"
      ]
     },
     "metadata": {},
     "output_type": "display_data"
    },
    {
     "data": {
      "image/png": "[encoded data removed]",
      "text/plain": [
       "<matplotlib.figure.Figure at 0x118941978>"
      ]
     },
     "metadata": {},
     "output_type": "display_data"
    },
    {
     "data": {
      "image/png": "[encoded data removed]",
      "text/plain": [
       "<matplotlib.figure.Figure at 0x11ace9588>"
      ]
     },
     "metadata": {},
     "output_type": "display_data"
    }
   ],
   "source": [
    "compare_plot(label, image, output)"
   ]
  },
  {
   "cell_type": "code",
   "execution_count": 373,
   "metadata": {
    "scrolled": true
   },
   "outputs": [
    {
     "name": "stdout",
     "output_type": "stream",
     "text": [
      "i 0.0467401\n",
      "i 0.046434\n",
      "i 0.0463232\n",
      "i 0.0467601\n",
      "i 0.0461716\n",
      "i 0.0458464\n",
      "i 0.0458656\n",
      "i 0.0455698\n",
      "i 0.0457835\n",
      "i 0.0453655\n",
      "i 0.04524\n",
      "i 0.0452142\n",
      "i 0.0448129\n",
      "i 0.0449174\n",
      "i 0.0451547\n",
      "i 0.0450719\n",
      "i 0.0448199\n",
      "i 0.0445889\n",
      "i 0.0444118\n",
      "i 0.0443762\n",
      "i 0.044508\n",
      "i 0.0441414\n",
      "i 0.0442511\n",
      "i 0.0438415\n",
      "i 0.0439553\n",
      "i 0.0438697\n",
      "i 0.0440794\n",
      "i 0.0440791\n",
      "i 0.0441256\n",
      "i 0.043701\n",
      "i 0.0434799\n",
      "i 0.0435257\n",
      "i 0.0431783\n",
      "i 0.0432269\n",
      "i 0.0433167\n",
      "i 0.0432329\n",
      "i 0.0432762\n",
      "i 0.0433459\n",
      "i 0.0433255\n",
      "i 0.042848\n",
      "i 0.0436767\n",
      "i 0.0430445\n",
      "i 0.0428232\n",
      "i 0.0427634\n",
      "i 0.0430581\n",
      "i 0.0427207\n",
      "i 0.042746\n",
      "i 0.0427195\n",
      "i 0.0425508\n",
      "i 0.0425293\n",
      "i 0.0425256\n",
      "i 0.0423942\n",
      "i 0.0426572\n",
      "i 0.0421035\n"
     ]
    }
   ],
   "source": [
    "loss_arr = []\n",
    "for i in range(1):\n",
    "    for image,label in train_loader:\n",
    "  \n",
    "        optimizer.zero_grad()\n",
    "        output = encoder(Variable(image))\n",
    "        output = decoder(output)\n",
    "        \n",
    "        loss = loss_func(output,Variable(label))\n",
    "        loss.backward()\n",
    "        optimizer.step()       \n",
    "                \n",
    "#     torch.save([encoder,decoder],'./model/deno_autoencoder.pkl')\n",
    "        print(\"i\",loss.data.numpy()[0])\n",
    "        loss_arr.append(loss.data.numpy()[0])"
   ]
  },
  {
   "cell_type": "code",
   "execution_count": 375,
   "metadata": {},
   "outputs": [
    {
     "data": {
      "image/png": "[encoded data removed]",
      "text/plain": [
       "<matplotlib.figure.Figure at 0x11b35ae80>"
      ]
     },
     "metadata": {},
     "output_type": "display_data"
    }
   ],
   "source": [
    "plt.plot(range(len(loss_arr)), loss_arr)\n",
    "plt.show()"
   ]
  },
  {
   "cell_type": "code",
   "execution_count": 374,
   "metadata": {},
   "outputs": [
    {
     "data": {
      "image/png": "[encoded data removed]",
      "text/plain": [
       "<matplotlib.figure.Figure at 0x11b430860>"
      ]
     },
     "metadata": {},
     "output_type": "display_data"
    },
    {
     "data": {
      "image/png": "[encoded data removed]",
      "text/plain": [
       "<matplotlib.figure.Figure at 0x11b35df60>"
      ]
     },
     "metadata": {},
     "output_type": "display_data"
    },
    {
     "data": {
      "image/png": "[encoded data removed]",
      "text/plain": [
       "<matplotlib.figure.Figure at 0x11b5210b8>"
      ]
     },
     "metadata": {},
     "output_type": "display_data"
    }
   ],
   "source": [
    "compare_plot(label, image, output)"
   ]
  },
  {
   "cell_type": "code",
   "execution_count": null,
   "metadata": {
    "collapsed": true,
    "scrolled": true
   },
   "outputs": [],
   "source": [
    "loss_arr = []\n",
    "for i in range(10):\n",
    "    for image,label in train_loader:\n",
    "  \n",
    "        #label = Variable(label.float()).cuda()\n",
    "        optimizer.zero_grad()\n",
    "        output = encoder(Variable(image))\n",
    "        output = decoder(output)\n",
    "        loss = loss_func(output,Variable(label))\n",
    "        loss.backward()\n",
    "        optimizer.step()    \n",
    "                \n",
    "#     torch.save([encoder,decoder],'./model/deno_autoencoder.pkl')\n",
    "        print(\"i\",loss.data.numpy()[0])\n",
    "        loss_arr.append(loss.data.numpy()[0])"
   ]
  },
  {
   "cell_type": "code",
   "execution_count": null,
   "metadata": {
    "collapsed": true
   },
   "outputs": [],
   "source": [
    "plt.plot(range(len(loss_arr)), loss_arr)\n",
    "plt.show()"
   ]
  },
  {
   "cell_type": "code",
   "execution_count": null,
   "metadata": {
    "collapsed": true
   },
   "outputs": [],
   "source": [
    "compare_plot(label, image, output)"
   ]
  },
  {
   "cell_type": "markdown",
   "metadata": {},
   "source": [
    "### Train VAE"
   ]
  },
  {
   "cell_type": "code",
   "execution_count": null,
   "metadata": {
    "collapsed": true
   },
   "outputs": [],
   "source": [
    "from __future__ import print_function\n",
    "import argparse\n",
    "import torch\n",
    "import torch.utils.data\n",
    "from torch import nn, optim\n",
    "from torch.autograd import Variable\n",
    "from torch.nn import functional as F\n",
    "from torchvision import datasets, transforms\n",
    "from torchvision.utils import save_image"
   ]
  },
  {
   "cell_type": "code",
   "execution_count": null,
   "metadata": {
    "collapsed": true
   },
   "outputs": [],
   "source": [
    "batch_size = 100\n",
    "epochs = 10\n",
    "log_interval = 10"
   ]
  },
  {
   "cell_type": "code",
   "execution_count": null,
   "metadata": {
    "collapsed": true
   },
   "outputs": [],
   "source": [
    "class VAE(nn.Module):\n",
    "    def __init__(self):\n",
    "        super(VAE, self).__init__()\n",
    "\n",
    "        self.fc1 = nn.Linear(1000*300, 400)\n",
    "        self.fc21 = nn.Linear(400, 20)\n",
    "        self.fc22 = nn.Linear(400, 20)\n",
    "        self.fc3 = nn.Linear(20, 400)\n",
    "        self.fc4 = nn.Linear(400, 1000*300)\n",
    "        \n",
    "        #convolution\n",
    "#         self.fc1 = nn.Conv3d(3,10,3)\n",
    "#         self.fc21 = nn.Conv3d(10,15,3)\n",
    "#         self.fc22 = nn.Linear(400, 20)\n",
    "#         self.fc3 = nn.Linear(20, 400)\n",
    "#         self.fc4 = nn.Linear(400, 1000*100)\n",
    "        #linear\n",
    "#         self.fc1 = nn.Linear(1000*100, 400)\n",
    "#         self.fc21 = nn.Linear(400, 20)\n",
    "#         self.fc22 = nn.Linear(400, 20)\n",
    "#         self.fc3 = nn.Linear(20, 400)\n",
    "#         self.fc4 = nn.Linear(400, 1000*100)\n",
    "\n",
    "        self.relu = nn.ReLU()\n",
    "#         self.maxpool = nn.MaxPool3d((2, 2, 2))\n",
    "        self.sigmoid = nn.Sigmoid()\n",
    "\n",
    "    def encode(self, x):\n",
    "        h1 = self.relu(self.fc1(x))\n",
    "        return self.fc21(h1), self.fc22(h1)\n",
    "\n",
    "    def reparameterize(self, mu, logvar):\n",
    "        if self.training:\n",
    "            std = logvar.mul(0.5).exp_()\n",
    "            eps = Variable(std.data.new(std.size()).normal_())\n",
    "            return eps.mul(std).add_(mu)\n",
    "        else:\n",
    "            return mu\n",
    "\n",
    "    def decode(self, z):\n",
    "        h3 = self.relu(self.fc3(z))\n",
    "        return self.sigmoid(self.fc4(h3))\n",
    "\n",
    "    def forward(self, x):\n",
    "        mu, logvar = self.encode(x.view(-1, 1000*300))\n",
    "        z = self.reparameterize(mu, logvar)\n",
    "        return self.decode(z), mu, logvar"
   ]
  },
  {
   "cell_type": "code",
   "execution_count": null,
   "metadata": {
    "collapsed": true
   },
   "outputs": [],
   "source": [
    "def loss_function(recon_x, x, mu, logvar):\n",
    "    BCE = F.binary_cross_entropy(recon_x, x.view(-1, 1000*300))\n",
    "\n",
    "    # see Appendix B from VAE paper:\n",
    "    # Kingma and Welling. Auto-Encoding Variational Bayes. ICLR, 2014\n",
    "    # https://arxiv.org/abs/1312.6114\n",
    "    # 0.5 * sum(1 + log(sigma^2) - mu^2 - sigma^2)\n",
    "    KLD = -0.5 * torch.sum(1 + logvar - mu.pow(2) - logvar.exp())\n",
    "    # Normalise by same number of elements as in reconstruction\n",
    "    KLD /= batch_size * 1000*300\n",
    "\n",
    "    return BCE + KLD"
   ]
  },
  {
   "cell_type": "code",
   "execution_count": null,
   "metadata": {
    "collapsed": true
   },
   "outputs": [],
   "source": [
    "def train(epoch):\n",
    "    model.train()\n",
    "    train_loss = 0\n",
    "    for batch_idx, (data, _) in enumerate(train_loader):\n",
    "        data = Variable(data.type(torch.FloatTensor))\n",
    "        optimizer.zero_grad()\n",
    "        recon_batch, mu, logvar = model(data)\n",
    "        loss = loss_function(recon_batch, data, mu, logvar)\n",
    "        loss.backward()\n",
    "        train_loss += loss.data[0]\n",
    "        optimizer.step()\n",
    "        if batch_idx % log_interval == 0:\n",
    "            print('Train Epoch: {} [{}/{} ({:.0f}%)]\\tLoss: {:.6f}'.format(\n",
    "                epoch, batch_idx * len(data), len(train_loader.dataset),\n",
    "                100. * batch_idx / len(train_loader),\n",
    "                loss.data[0] / len(data)))\n",
    "\n",
    "    print('====> Epoch: {} Average loss: {:.4f}'.format(\n",
    "          epoch, train_loss / len(train_loader.dataset)))\n",
    "\n",
    "\n",
    "def test(epoch):\n",
    "    model.eval()\n",
    "    test_loss = 0\n",
    "    for i, (data, _) in enumerate(test_loader):\n",
    "        data = Variable(data.type(torch.FloatTensor), volatile=True)\n",
    "        recon_batch, mu, logvar = model(data)\n",
    "        test_loss += loss_function(recon_batch, data, mu, logvar).data[0]\n",
    "        if i == 0:\n",
    "            n = min(data.size(0), 8)\n",
    "            comparison = torch.cat([data[:n],\n",
    "                                      recon_batch.view(batch_size, 1, 28, 28)[:n]])\n",
    "            save_image(comparison.data.cpu(),\n",
    "                     'results/reconstruction_' + str(epoch) + '.png', nrow=n)\n",
    "\n",
    "    test_loss /= len(test_loader.dataset)\n",
    "    print('====> Test set loss: {:.4f}'.format(test_loss))"
   ]
  },
  {
   "cell_type": "code",
   "execution_count": null,
   "metadata": {
    "collapsed": true
   },
   "outputs": [],
   "source": [
    "model = VAE()"
   ]
  },
  {
   "cell_type": "code",
   "execution_count": null,
   "metadata": {
    "collapsed": true
   },
   "outputs": [],
   "source": [
    "optimizer = optim.Adam(model.parameters(), lr=1e-3)"
   ]
  },
  {
   "cell_type": "code",
   "execution_count": null,
   "metadata": {
    "collapsed": true
   },
   "outputs": [],
   "source": [
    "for epoch in range(1, epochs + 1):\n",
    "    train(epoch)\n",
    "#     test(epoch)\n",
    "#     sample = Variable(torch.randn(64, 20))\n",
    "#     sample = model.decode(sample).cpu()\n",
    "#     save_image(sample.data.view(64, 1, 28, 28),\n",
    "#                'results/sample_' + str(epoch) + '.png')"
   ]
  },
  {
   "cell_type": "code",
   "execution_count": null,
   "metadata": {
    "collapsed": true
   },
   "outputs": [],
   "source": []
  }
 ],
 "metadata": {
  "kernelspec": {
   "display_name": "Python [py36]",
   "language": "python",
   "name": "Python [py36]"
  },
  "language_info": {
   "codemirror_mode": {
    "name": "ipython",
    "version": 3
   },
   "file_extension": ".py",
   "mimetype": "text/x-python",
   "name": "python",
   "nbconvert_exporter": "python",
   "pygments_lexer": "ipython3",
   "version": "3.6.2"
  }
 },
 "nbformat": 4,
 "nbformat_minor": 1
}
