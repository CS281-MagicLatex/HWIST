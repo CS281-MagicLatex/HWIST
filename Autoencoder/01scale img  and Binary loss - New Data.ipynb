{
 "cells": [
  {
   "cell_type": "code",
   "execution_count": 49,
   "metadata": {
    "collapsed": true
   },
   "outputs": [],
   "source": [
    "import numpy as np\n",
    "from matplotlib import pyplot as plt\n",
    "from scipy.misc import imread\n",
    "from PIL import Image\n",
    "\n",
    "import torch\n",
    "import torch.utils.data as data_utils\n",
    "from torch.autograd import Variable\n",
    "\n",
    "%matplotlib inline"
   ]
  },
  {
   "cell_type": "markdown",
   "metadata": {},
   "source": [
    "## Load Pair List"
   ]
  },
  {
   "cell_type": "code",
   "execution_count": 52,
   "metadata": {
    "collapsed": true
   },
   "outputs": [],
   "source": [
    "with open('./im2latex_train.lst','rb') as file:\n",
    "    match = file.readlines()"
   ]
  },
  {
   "cell_type": "code",
   "execution_count": 53,
   "metadata": {},
   "outputs": [
    {
     "name": "stdout",
     "output_type": "stream",
     "text": [
      "Number of data:  83884\n"
     ]
    }
   ],
   "source": [
    "N = len(match)\n",
    "print (\"Number of data: \",N )"
   ]
  },
  {
   "cell_type": "code",
   "execution_count": 56,
   "metadata": {},
   "outputs": [
    {
     "name": "stdout",
     "output_type": "stream",
     "text": [
      "(285, 41)\n"
     ]
    },
    {
     "data": {
      "image/png": "[encoded data removed]",
      "text/plain": [
       "<PIL.PngImagePlugin.PngImageFile image mode=L size=285x41 at 0x118992080>"
      ]
     },
     "execution_count": 56,
     "metadata": {},
     "output_type": "execute_result"
    }
   ],
   "source": [
    "img = Image.open('./data/handwritten_processed/' + '81680.png')\n",
    "print (img.size)\n",
    "img"
   ]
  },
  {
   "cell_type": "code",
   "execution_count": 71,
   "metadata": {},
   "outputs": [
    {
     "name": "stdout",
     "output_type": "stream",
     "text": [
      "(285, 41)\n"
     ]
    },
    {
     "data": {
      "image/png": "[encoded data removed]",
      "text/plain": [
       "<PIL.Image.Image image mode=L size=285x41 at 0x117600E10>"
      ]
     },
     "execution_count": 71,
     "metadata": {},
     "output_type": "execute_result"
    }
   ],
   "source": [
    "img2 = Image.open('./data/latex_processed/' + match_dict['81680.png'])\n",
    "img2 = img2.resize((285, 41), Image.ANTIALIAS)\n",
    "print (img2.size)\n",
    "img2"
   ]
  },
  {
   "cell_type": "markdown",
   "metadata": {},
   "source": [
    "## Split train and test"
   ]
  },
  {
   "cell_type": "markdown",
   "metadata": {},
   "source": [
    "**2 img sizes: \n",
    "(41,285) for train, \n",
    "(40,253) for test**"
   ]
  },
  {
   "cell_type": "code",
   "execution_count": 7,
   "metadata": {
    "collapsed": true
   },
   "outputs": [],
   "source": [
    "threshold = 150 "
   ]
  },
  {
   "cell_type": "code",
   "execution_count": 8,
   "metadata": {
    "collapsed": true
   },
   "outputs": [],
   "source": [
    "def to_bin(img, up):\n",
    "    img_copy = np.copy(img)\n",
    "    img_copy[img_copy <= threshold] = 0\n",
    "    img_copy[img_copy > threshold] = up\n",
    "    return img_copy"
   ]
  },
  {
   "cell_type": "code",
   "execution_count": 34,
   "metadata": {
    "collapsed": true
   },
   "outputs": [],
   "source": [
    "def load_train_test(match_dict, n_train = 1000, n_test = 200):\n",
    "    \n",
    "    '''\n",
    "    to do: check valide number of data\n",
    "    '''\n",
    "    hw_train, print_train = [], []\n",
    "    hw_test, print_test = [], []\n",
    "    \n",
    "    i_train, i_test = 0, 0\n",
    "    \n",
    "    print (\"Loading data ...\")\n",
    "    \n",
    "    for i,hw in enumerate(list(match_dict.keys())[:200]):\n",
    "        \n",
    "\n",
    "        #load matched filenames\n",
    "        pr = match_dict[hw]\n",
    "        \n",
    "        try:\n",
    "            #print\n",
    "            print_img = Image.open('./data/latex_processed/'+pr)\n",
    "            print_img_bin = to_bin(print_img,up=1)\n",
    "\n",
    "            #handwritten\n",
    "            hw_img = Image.open('./data/handwritten_processed/'+hw)\n",
    "            hw_img_bin = to_bin(hw_img,up=1)\n",
    "#             print (hw_img_bin.shape)\n",
    "        \n",
    "        \n",
    "            if (hw_img_bin.shape == (41, 285)):\n",
    "                \n",
    "                hw_train.append(hw_img_bin)\n",
    "                print_train.append(print_img_bin)\n",
    "                \n",
    "                \n",
    "            if (hw_img_bin.shape == (40, 253)):\n",
    "                \n",
    "                hw_test.append(hw_img_bin)\n",
    "                print_test.append(print_img_bin)\n",
    "#                 i_test += 1\n",
    "\n",
    "        except:\n",
    "            #no such image\n",
    "            pass\n",
    "        \n",
    "#         if (i_train == n_train) and (i_test == n_test):\n",
    "#             print (\"Data successfully loaded\")\n",
    "            \n",
    "    hw_train = np.array(hw_train, dtype = 'float')\n",
    "    print_train = np.array(print_train, dtype = 'float')\n",
    "    hw_test = np.array(hw_test, dtype = 'float')\n",
    "    print_test = np.array(print_test, dtype = 'float')\n",
    "\n",
    "\n",
    "    hw_train = np.expand_dims(hw_train, axis=1)\n",
    "    print_train = np.expand_dims(print_train, axis=1)\n",
    "    hw_test = np.expand_dims(hw_test, axis=1)\n",
    "    print_test = np.expand_dims(print_test, axis=1)\n",
    "            \n",
    "    return hw_train, print_train, hw_test, print_test\n",
    "            "
   ]
  },
  {
   "cell_type": "code",
   "execution_count": 35,
   "metadata": {
    "collapsed": true
   },
   "outputs": [],
   "source": [
    "match_dict = {e.decode('utf-8').split(' ')[0] + '.png':e.decode('utf-8').split(' ')[1] + '.png' for e in match}"
   ]
  },
  {
   "cell_type": "code",
   "execution_count": 36,
   "metadata": {
    "scrolled": true
   },
   "outputs": [
    {
     "name": "stdout",
     "output_type": "stream",
     "text": [
      "Loading data ...\n"
     ]
    }
   ],
   "source": [
    "hw_train, print_train, hw_test, print_test = load_train_test(match_dict, n_train=10, n_test = 20)   "
   ]
  },
  {
   "cell_type": "code",
   "execution_count": 37,
   "metadata": {},
   "outputs": [
    {
     "data": {
      "text/plain": [
       "(186, 1, 40, 253)"
      ]
     },
     "execution_count": 37,
     "metadata": {},
     "output_type": "execute_result"
    }
   ],
   "source": [
    "print_train.shape"
   ]
  },
  {
   "cell_type": "code",
   "execution_count": 38,
   "metadata": {},
   "outputs": [
    {
     "data": {
      "text/plain": [
       "(0, 1)"
      ]
     },
     "execution_count": 38,
     "metadata": {},
     "output_type": "execute_result"
    }
   ],
   "source": [
    "print_test.shape"
   ]
  },
  {
   "cell_type": "code",
   "execution_count": 39,
   "metadata": {},
   "outputs": [
    {
     "data": {
      "text/plain": [
       "(186, 1, 41, 285)"
      ]
     },
     "execution_count": 39,
     "metadata": {},
     "output_type": "execute_result"
    }
   ],
   "source": [
    "hw_train.shape"
   ]
  },
  {
   "cell_type": "code",
   "execution_count": 40,
   "metadata": {},
   "outputs": [
    {
     "data": {
      "text/plain": [
       "(0, 1)"
      ]
     },
     "execution_count": 40,
     "metadata": {},
     "output_type": "execute_result"
    }
   ],
   "source": [
    "hw_test.shape"
   ]
  },
  {
   "cell_type": "code",
   "execution_count": null,
   "metadata": {
    "collapsed": true
   },
   "outputs": [],
   "source": [
    "features = torch.from_numpy(hw_imgs_3d).type(torch.FloatTensor)\n",
    "targets = torch.from_numpy(print_imgs_3d).type(torch.FloatTensor)\n",
    "\n",
    "batch_size = 40 #整数倍个数\n",
    "\n",
    "train = data_utils.TensorDataset(features, targets)\n",
    "train_loader = data_utils.DataLoader(train, batch_size=batch_size, shuffle=True)"
   ]
  },
  {
   "cell_type": "markdown",
   "metadata": {},
   "source": [
    "**It is a Grey scale picture = RGB 3 channel the same both for handwritten and pdf**"
   ]
  },
  {
   "cell_type": "markdown",
   "metadata": {},
   "source": [
    "### Train DVE"
   ]
  },
  {
   "cell_type": "code",
   "execution_count": 354,
   "metadata": {
    "collapsed": true
   },
   "outputs": [],
   "source": [
    "import torch\n",
    "import torch.nn as nn\n",
    "import torch.utils as utils\n",
    "from torch.autograd import Variable\n",
    "import torchvision.datasets as dset\n",
    "import torchvision.transforms as transforms"
   ]
  },
  {
   "cell_type": "code",
   "execution_count": 366,
   "metadata": {
    "collapsed": true
   },
   "outputs": [],
   "source": [
    "epoch = 10\n",
    "learning_rate = 0.001"
   ]
  },
  {
   "cell_type": "code",
   "execution_count": 356,
   "metadata": {
    "collapsed": true
   },
   "outputs": [],
   "source": [
    "# Encoder \n",
    "# torch.nn.Conv2d(in_channels, out_channels, kernel_size,\n",
    "#                 stride=1, padding=0, dilation=1,\n",
    "#                 groups=1, bias=True)\n",
    "# batch x 1 x 28 x 28 -> batch x 512\n",
    "\n",
    "class Encoder(nn.Module):\n",
    "    def __init__(self):\n",
    "        super(Encoder,self).__init__()\n",
    "        self.layer1 = nn.Sequential(\n",
    "                        nn.Conv2d(1,32,3,padding=1),   # batch x 16 x max_height x max_weight\n",
    "                        nn.ReLU(),\n",
    "                        nn.BatchNorm2d(32),\n",
    "                        nn.Conv2d(32,32,3,padding=1),   # batch x 16 x max_height x max_weight\n",
    "                        nn.ReLU(),\n",
    "                        nn.BatchNorm2d(32),\n",
    "                        nn.Conv2d(32,64,3,padding=1),  # batch x 32 x max_height x max_weight\n",
    "                        nn.ReLU(),\n",
    "                        nn.BatchNorm2d(64),\n",
    "                        nn.Conv2d(64,64,3,padding=1),  # batch x 32 x max_height x max_weight\n",
    "                        nn.ReLU(),\n",
    "                        nn.BatchNorm2d(64),\n",
    "                        nn.MaxPool2d(2,2)   # batch x 64 x max_height x max_weight / 4\n",
    "        )\n",
    "        self.layer2 = nn.Sequential(\n",
    "                        nn.Conv2d(64,128,3,padding=1),  # batch x 64 x 14 x 14\n",
    "                        nn.ReLU(),\n",
    "                        nn.BatchNorm2d(128),\n",
    "                        nn.Conv2d(128,128,3,padding=1),  # batch x 64 x 14 x 14\n",
    "                        nn.ReLU(),\n",
    "                        nn.BatchNorm2d(128),\n",
    "                        nn.MaxPool2d(2,2),\n",
    "                        nn.Conv2d(128,256,3,padding=1),  # batch x 64 x 7 x 7\n",
    "                        nn.ReLU()\n",
    "        )\n",
    "        \n",
    "                \n",
    "    def forward(self,x):\n",
    "        out = self.layer1(x)\n",
    "        out = out.view(batch_size, -1)\n",
    "        return out\n",
    "    \n",
    "encoder = Encoder()"
   ]
  },
  {
   "cell_type": "code",
   "execution_count": 357,
   "metadata": {
    "collapsed": true
   },
   "outputs": [],
   "source": [
    "# Decoder \n",
    "# torch.nn.ConvTranspose2d(in_channels, out_channels, kernel_size,\n",
    "#                          stride=1, padding=0, output_padding=0,\n",
    "#                          groups=1, bias=True)\n",
    "# output_height = (height-1)*stride + kernel_size - 2*padding + output_padding\n",
    "# batch x 512 -> batch x 1 x 28 x 28\n",
    "\n",
    "class Decoder(nn.Module):\n",
    "    def __init__(self):\n",
    "        super(Decoder,self).__init__()\n",
    "#         self.layer1 = nn.Sequential(\n",
    "#                         nn.ConvTranspose2d(256,128,3,2,1,1),\n",
    "#                         nn.ReLU(),\n",
    "#                         nn.BatchNorm2d(128),\n",
    "#                         nn.ConvTranspose2d(128,128,3,1,1),\n",
    "#                         nn.ReLU(),\n",
    "#                         nn.BatchNorm2d(128),\n",
    "#                         nn.ConvTranspose2d(128,64,3,1,1),\n",
    "#                         nn.ReLU(),\n",
    "#                         nn.BatchNorm2d(64),\n",
    "#                         nn.ConvTranspose2d(64,64,3,1,1),\n",
    "#                         nn.ReLU(),\n",
    "#                         nn.BatchNorm2d(64)\n",
    "#         )\n",
    "        self.layer2 = nn.Sequential(\n",
    "                        nn.ConvTranspose2d(64,32,3,1,1),\n",
    "                        nn.ReLU(),\n",
    "                        nn.BatchNorm2d(32),\n",
    "                        nn.ConvTranspose2d(32,32,3,1,1),\n",
    "                        nn.ReLU(),\n",
    "                        nn.BatchNorm2d(32),\n",
    "                        nn.ConvTranspose2d(32,1,3,2,1,1),\n",
    "                        nn.ReLU()\n",
    "        )\n",
    "        \n",
    "    def forward(self,x):\n",
    "        out = x.view(batch_size,64,int(max_height/2),int(max_width/2))\n",
    "#         out = self.layer1(out)\n",
    "        out = self.layer2(out)\n",
    "        return out\n",
    "\n",
    "decoder = Decoder()"
   ]
  },
  {
   "cell_type": "code",
   "execution_count": null,
   "metadata": {
    "collapsed": true
   },
   "outputs": [],
   "source": [
    "# Check output of autoencoder\n",
    "#ignore\n",
    "for image,label in train_loader:\n",
    "    image = Variable(image)\n",
    "    \n",
    "    output = encoder(image)\n",
    "    output = decoder(output)\n",
    "    print(output.size())\n",
    "    break"
   ]
  },
  {
   "cell_type": "code",
   "execution_count": null,
   "metadata": {
    "collapsed": true
   },
   "outputs": [],
   "source": [
    "# Noise\n",
    "#ignore\n",
    "noise = torch.rand(batch_size,1,28,28)"
   ]
  },
  {
   "cell_type": "code",
   "execution_count": 367,
   "metadata": {
    "collapsed": true
   },
   "outputs": [],
   "source": [
    "# loss func and optimizer\n",
    "# we compute reconstruction after decoder so use Mean Squared Error\n",
    "# In order to use multi parameters with one optimizer,\n",
    "# concat parameters after changing into list\n",
    "\n",
    "parameters = list(encoder.parameters())+ list(decoder.parameters())\n",
    "loss_func = nn.BCEWithLogitsLoss(weight=0.1*torch.ones(40,1,50,300)) #40 is batch size\n",
    "# m = nn.Sigmoid()\n",
    "optimizer = torch.optim.Adam(parameters, lr=learning_rate)"
   ]
  },
  {
   "cell_type": "code",
   "execution_count": 368,
   "metadata": {
    "scrolled": true
   },
   "outputs": [
    {
     "name": "stdout",
     "output_type": "stream",
     "text": [
      "i 0.0669711\n",
      "i 0.0670275\n",
      "i 0.0659771\n",
      "i 0.0652752\n",
      "i 0.0646452\n",
      "i 0.0640354\n",
      "i 0.0634396\n",
      "i 0.0628764\n",
      "i 0.0623596\n",
      "i 0.0617148\n",
      "i 0.0614523\n",
      "i 0.0608557\n",
      "i 0.060338\n",
      "i 0.0597419\n",
      "i 0.059331\n",
      "i 0.0587418\n",
      "i 0.0582503\n",
      "i 0.0578348\n",
      "i 0.0573265\n",
      "i 0.056864\n",
      "i 0.0563885\n",
      "i 0.0560859\n",
      "i 0.055491\n",
      "i 0.0550824\n",
      "i 0.0546494\n",
      "i 0.0543248\n",
      "i 0.0539544\n",
      "i 0.0536007\n",
      "i 0.0532652\n",
      "i 0.0527231\n",
      "i 0.0523514\n",
      "i 0.0520944\n",
      "i 0.0515517\n",
      "i 0.0511115\n",
      "i 0.0511176\n",
      "i 0.050666\n",
      "i 0.050351\n",
      "i 0.0500816\n",
      "i 0.0496794\n",
      "i 0.0496286\n",
      "i 0.0492746\n",
      "i 0.0487951\n",
      "i 0.0488936\n",
      "i 0.0486606\n",
      "i 0.0483163\n",
      "i 0.0480904\n",
      "i 0.047915\n",
      "i 0.0477528\n",
      "i 0.047526\n",
      "i 0.0472998\n",
      "i 0.047077\n",
      "i 0.0473448\n",
      "i 0.0470505\n",
      "i 0.0465657\n"
     ]
    }
   ],
   "source": [
    "loss_arr = []\n",
    "for i in range(1):\n",
    "    for image,label in train_loader:\n",
    "  \n",
    "        optimizer.zero_grad()\n",
    "        output = encoder(Variable(image))\n",
    "        output = decoder(output)\n",
    "        \n",
    "        loss = loss_func(output,Variable(label))\n",
    "        loss.backward()\n",
    "        optimizer.step()       \n",
    "                \n",
    "#     torch.save([encoder,decoder],'./model/deno_autoencoder.pkl')\n",
    "        print(\"i\",loss.data.numpy()[0])\n",
    "        loss_arr.append(loss.data.numpy()[0])"
   ]
  },
  {
   "cell_type": "code",
   "execution_count": 369,
   "metadata": {
    "collapsed": true
   },
   "outputs": [],
   "source": [
    "def to_RGB(img):\n",
    "    img[img <=0.5] = 0\n",
    "    img[img > 0.5] = 255\n",
    "    return img"
   ]
  },
  {
   "cell_type": "code",
   "execution_count": 370,
   "metadata": {
    "collapsed": true
   },
   "outputs": [],
   "source": [
    "def compare_plot(label, image, output):\n",
    "        \n",
    "    img = label[0]\n",
    "    input_img = image[0]\n",
    "    output_img = output[0]\n",
    "\n",
    "    origin = img.numpy().astype(int)\n",
    "    input_img = input_img.numpy().astype(int)\n",
    "    output_img = to_RGB(output_img.data.numpy().astype(int))\n",
    "\n",
    "    plt.imshow(origin[0,:,:],cmap='gray')\n",
    "    plt.show()\n",
    "\n",
    "    plt.imshow(input_img[0,:,:],cmap='gray')\n",
    "    plt.show()\n",
    "\n",
    "    plt.imshow(output_img[0,:,:],cmap=\"gray\")\n",
    "    plt.show()"
   ]
  },
  {
   "cell_type": "code",
   "execution_count": 371,
   "metadata": {},
   "outputs": [
    {
     "data": {
      "image/png": "[encoded data removed]",
      "text/plain": [
       "<matplotlib.figure.Figure at 0x11b223550>"
      ]
     },
     "metadata": {},
     "output_type": "display_data"
    }
   ],
   "source": [
    "plt.plot(range(len(loss_arr)), loss_arr)\n",
    "plt.show()"
   ]
  },
  {
   "cell_type": "code",
   "execution_count": 372,
   "metadata": {},
   "outputs": [
    {
     "data": {
      "image/png": "[encoded data removed]",
      "text/plain": [
       "<matplotlib.figure.Figure at 0x114895518>"
      ]
     },
     "metadata": {},
     "output_type": "display_data"
    },
    {
     "data": {
      "image/png": "[encoded data removed]",
      "text/plain": [
       "<matplotlib.figure.Figure at 0x118941978>"
      ]
     },
     "metadata": {},
     "output_type": "display_data"
    },
    {
     "data": {
      "image/png": "[encoded data removed]",
      "text/plain": [
       "<matplotlib.figure.Figure at 0x11ace9588>"
      ]
     },
     "metadata": {},
     "output_type": "display_data"
    }
   ],
   "source": [
    "compare_plot(label, image, output)"
   ]
  },
  {
   "cell_type": "code",
   "execution_count": 373,
   "metadata": {
    "scrolled": true
   },
   "outputs": [
    {
     "name": "stdout",
     "output_type": "stream",
     "text": [
      "i 0.0467401\n",
      "i 0.046434\n",
      "i 0.0463232\n",
      "i 0.0467601\n",
      "i 0.0461716\n",
      "i 0.0458464\n",
      "i 0.0458656\n",
      "i 0.0455698\n",
      "i 0.0457835\n",
      "i 0.0453655\n",
      "i 0.04524\n",
      "i 0.0452142\n",
      "i 0.0448129\n",
      "i 0.0449174\n",
      "i 0.0451547\n",
      "i 0.0450719\n",
      "i 0.0448199\n",
      "i 0.0445889\n",
      "i 0.0444118\n",
      "i 0.0443762\n",
      "i 0.044508\n",
      "i 0.0441414\n",
      "i 0.0442511\n",
      "i 0.0438415\n",
      "i 0.0439553\n",
      "i 0.0438697\n",
      "i 0.0440794\n",
      "i 0.0440791\n",
      "i 0.0441256\n",
      "i 0.043701\n",
      "i 0.0434799\n",
      "i 0.0435257\n",
      "i 0.0431783\n",
      "i 0.0432269\n",
      "i 0.0433167\n",
      "i 0.0432329\n",
      "i 0.0432762\n",
      "i 0.0433459\n",
      "i 0.0433255\n",
      "i 0.042848\n",
      "i 0.0436767\n",
      "i 0.0430445\n",
      "i 0.0428232\n",
      "i 0.0427634\n",
      "i 0.0430581\n",
      "i 0.0427207\n",
      "i 0.042746\n",
      "i 0.0427195\n",
      "i 0.0425508\n",
      "i 0.0425293\n",
      "i 0.0425256\n",
      "i 0.0423942\n",
      "i 0.0426572\n",
      "i 0.0421035\n"
     ]
    }
   ],
   "source": [
    "loss_arr = []\n",
    "for i in range(1):\n",
    "    for image,label in train_loader:\n",
    "  \n",
    "        optimizer.zero_grad()\n",
    "        output = encoder(Variable(image))\n",
    "        output = decoder(output)\n",
    "        \n",
    "        loss = loss_func(output,Variable(label))\n",
    "        loss.backward()\n",
    "        optimizer.step()       \n",
    "                \n",
    "#     torch.save([encoder,decoder],'./model/deno_autoencoder.pkl')\n",
    "        print(\"i\",loss.data.numpy()[0])\n",
    "        loss_arr.append(loss.data.numpy()[0])"
   ]
  },
  {
   "cell_type": "code",
   "execution_count": 375,
   "metadata": {},
   "outputs": [
    {
     "data": {
      "image/png": "[encoded data removed]",
      "text/plain": [
       "<matplotlib.figure.Figure at 0x11b35ae80>"
      ]
     },
     "metadata": {},
     "output_type": "display_data"
    }
   ],
   "source": [
    "plt.plot(range(len(loss_arr)), loss_arr)\n",
    "plt.show()"
   ]
  },
  {
   "cell_type": "code",
   "execution_count": 374,
   "metadata": {},
   "outputs": [
    {
     "data": {
      "image/png": "[encoded data removed]",
      "text/plain": [
       "<matplotlib.figure.Figure at 0x11b430860>"
      ]
     },
     "metadata": {},
     "output_type": "display_data"
    },
    {
     "data": {
      "image/png": "[encoded data removed]",
      "text/plain": [
       "<matplotlib.figure.Figure at 0x11b35df60>"
      ]
     },
     "metadata": {},
     "output_type": "display_data"
    },
    {
     "data": {
      "image/png": "[encoded data removed]",
      "text/plain": [
       "<matplotlib.figure.Figure at 0x11b5210b8>"
      ]
     },
     "metadata": {},
     "output_type": "display_data"
    }
   ],
   "source": [
    "compare_plot(label, image, output)"
   ]
  },
  {
   "cell_type": "code",
   "execution_count": null,
   "metadata": {
    "collapsed": true,
    "scrolled": true
   },
   "outputs": [],
   "source": [
    "loss_arr = []\n",
    "for i in range(10):\n",
    "    for image,label in train_loader:\n",
    "  \n",
    "        #label = Variable(label.float()).cuda()\n",
    "        optimizer.zero_grad()\n",
    "        output = encoder(Variable(image))\n",
    "        output = decoder(output)\n",
    "        loss = loss_func(output,Variable(label))\n",
    "        loss.backward()\n",
    "        optimizer.step()    \n",
    "                \n",
    "#     torch.save([encoder,decoder],'./model/deno_autoencoder.pkl')\n",
    "        print(\"i\",loss.data.numpy()[0])\n",
    "        loss_arr.append(loss.data.numpy()[0])"
   ]
  },
  {
   "cell_type": "code",
   "execution_count": null,
   "metadata": {
    "collapsed": true
   },
   "outputs": [],
   "source": [
    "plt.plot(range(len(loss_arr)), loss_arr)\n",
    "plt.show()"
   ]
  },
  {
   "cell_type": "code",
   "execution_count": null,
   "metadata": {
    "collapsed": true
   },
   "outputs": [],
   "source": [
    "compare_plot(label, image, output)"
   ]
  },
  {
   "cell_type": "markdown",
   "metadata": {},
   "source": [
    "### Train VAE"
   ]
  },
  {
   "cell_type": "code",
   "execution_count": null,
   "metadata": {
    "collapsed": true
   },
   "outputs": [],
   "source": [
    "from __future__ import print_function\n",
    "import argparse\n",
    "import torch\n",
    "import torch.utils.data\n",
    "from torch import nn, optim\n",
    "from torch.autograd import Variable\n",
    "from torch.nn import functional as F\n",
    "from torchvision import datasets, transforms\n",
    "from torchvision.utils import save_image"
   ]
  },
  {
   "cell_type": "code",
   "execution_count": null,
   "metadata": {
    "collapsed": true
   },
   "outputs": [],
   "source": [
    "batch_size = 100\n",
    "epochs = 10\n",
    "log_interval = 10"
   ]
  },
  {
   "cell_type": "code",
   "execution_count": null,
   "metadata": {
    "collapsed": true
   },
   "outputs": [],
   "source": [
    "class VAE(nn.Module):\n",
    "    def __init__(self):\n",
    "        super(VAE, self).__init__()\n",
    "\n",
    "        self.fc1 = nn.Linear(1000*300, 400)\n",
    "        self.fc21 = nn.Linear(400, 20)\n",
    "        self.fc22 = nn.Linear(400, 20)\n",
    "        self.fc3 = nn.Linear(20, 400)\n",
    "        self.fc4 = nn.Linear(400, 1000*300)\n",
    "        \n",
    "        #convolution\n",
    "#         self.fc1 = nn.Conv3d(3,10,3)\n",
    "#         self.fc21 = nn.Conv3d(10,15,3)\n",
    "#         self.fc22 = nn.Linear(400, 20)\n",
    "#         self.fc3 = nn.Linear(20, 400)\n",
    "#         self.fc4 = nn.Linear(400, 1000*100)\n",
    "        #linear\n",
    "#         self.fc1 = nn.Linear(1000*100, 400)\n",
    "#         self.fc21 = nn.Linear(400, 20)\n",
    "#         self.fc22 = nn.Linear(400, 20)\n",
    "#         self.fc3 = nn.Linear(20, 400)\n",
    "#         self.fc4 = nn.Linear(400, 1000*100)\n",
    "\n",
    "        self.relu = nn.ReLU()\n",
    "#         self.maxpool = nn.MaxPool3d((2, 2, 2))\n",
    "        self.sigmoid = nn.Sigmoid()\n",
    "\n",
    "    def encode(self, x):\n",
    "        h1 = self.relu(self.fc1(x))\n",
    "        return self.fc21(h1), self.fc22(h1)\n",
    "\n",
    "    def reparameterize(self, mu, logvar):\n",
    "        if self.training:\n",
    "            std = logvar.mul(0.5).exp_()\n",
    "            eps = Variable(std.data.new(std.size()).normal_())\n",
    "            return eps.mul(std).add_(mu)\n",
    "        else:\n",
    "            return mu\n",
    "\n",
    "    def decode(self, z):\n",
    "        h3 = self.relu(self.fc3(z))\n",
    "        return self.sigmoid(self.fc4(h3))\n",
    "\n",
    "    def forward(self, x):\n",
    "        mu, logvar = self.encode(x.view(-1, 1000*300))\n",
    "        z = self.reparameterize(mu, logvar)\n",
    "        return self.decode(z), mu, logvar"
   ]
  },
  {
   "cell_type": "code",
   "execution_count": null,
   "metadata": {
    "collapsed": true
   },
   "outputs": [],
   "source": [
    "def loss_function(recon_x, x, mu, logvar):\n",
    "    BCE = F.binary_cross_entropy(recon_x, x.view(-1, 1000*300))\n",
    "\n",
    "    # see Appendix B from VAE paper:\n",
    "    # Kingma and Welling. Auto-Encoding Variational Bayes. ICLR, 2014\n",
    "    # https://arxiv.org/abs/1312.6114\n",
    "    # 0.5 * sum(1 + log(sigma^2) - mu^2 - sigma^2)\n",
    "    KLD = -0.5 * torch.sum(1 + logvar - mu.pow(2) - logvar.exp())\n",
    "    # Normalise by same number of elements as in reconstruction\n",
    "    KLD /= batch_size * 1000*300\n",
    "\n",
    "    return BCE + KLD"
   ]
  },
  {
   "cell_type": "code",
   "execution_count": null,
   "metadata": {
    "collapsed": true
   },
   "outputs": [],
   "source": [
    "def train(epoch):\n",
    "    model.train()\n",
    "    train_loss = 0\n",
    "    for batch_idx, (data, _) in enumerate(train_loader):\n",
    "        data = Variable(data.type(torch.FloatTensor))\n",
    "        optimizer.zero_grad()\n",
    "        recon_batch, mu, logvar = model(data)\n",
    "        loss = loss_function(recon_batch, data, mu, logvar)\n",
    "        loss.backward()\n",
    "        train_loss += loss.data[0]\n",
    "        optimizer.step()\n",
    "        if batch_idx % log_interval == 0:\n",
    "            print('Train Epoch: {} [{}/{} ({:.0f}%)]\\tLoss: {:.6f}'.format(\n",
    "                epoch, batch_idx * len(data), len(train_loader.dataset),\n",
    "                100. * batch_idx / len(train_loader),\n",
    "                loss.data[0] / len(data)))\n",
    "\n",
    "    print('====> Epoch: {} Average loss: {:.4f}'.format(\n",
    "          epoch, train_loss / len(train_loader.dataset)))\n",
    "\n",
    "\n",
    "def test(epoch):\n",
    "    model.eval()\n",
    "    test_loss = 0\n",
    "    for i, (data, _) in enumerate(test_loader):\n",
    "        data = Variable(data.type(torch.FloatTensor), volatile=True)\n",
    "        recon_batch, mu, logvar = model(data)\n",
    "        test_loss += loss_function(recon_batch, data, mu, logvar).data[0]\n",
    "        if i == 0:\n",
    "            n = min(data.size(0), 8)\n",
    "            comparison = torch.cat([data[:n],\n",
    "                                      recon_batch.view(batch_size, 1, 28, 28)[:n]])\n",
    "            save_image(comparison.data.cpu(),\n",
    "                     'results/reconstruction_' + str(epoch) + '.png', nrow=n)\n",
    "\n",
    "    test_loss /= len(test_loader.dataset)\n",
    "    print('====> Test set loss: {:.4f}'.format(test_loss))"
   ]
  },
  {
   "cell_type": "code",
   "execution_count": null,
   "metadata": {
    "collapsed": true
   },
   "outputs": [],
   "source": [
    "model = VAE()"
   ]
  },
  {
   "cell_type": "code",
   "execution_count": null,
   "metadata": {
    "collapsed": true
   },
   "outputs": [],
   "source": [
    "optimizer = optim.Adam(model.parameters(), lr=1e-3)"
   ]
  },
  {
   "cell_type": "code",
   "execution_count": null,
   "metadata": {
    "collapsed": true
   },
   "outputs": [],
   "source": [
    "for epoch in range(1, epochs + 1):\n",
    "    train(epoch)\n",
    "#     test(epoch)\n",
    "#     sample = Variable(torch.randn(64, 20))\n",
    "#     sample = model.decode(sample).cpu()\n",
    "#     save_image(sample.data.view(64, 1, 28, 28),\n",
    "#                'results/sample_' + str(epoch) + '.png')"
   ]
  },
  {
   "cell_type": "code",
   "execution_count": null,
   "metadata": {
    "collapsed": true
   },
   "outputs": [],
   "source": []
  }
 ],
 "metadata": {
  "kernelspec": {
   "display_name": "Python [py36]",
   "language": "python",
   "name": "Python [py36]"
  },
  "language_info": {
   "codemirror_mode": {
    "name": "ipython",
    "version": 3
   },
   "file_extension": ".py",
   "mimetype": "text/x-python",
   "name": "python",
   "nbconvert_exporter": "python",
   "pygments_lexer": "ipython3",
   "version": "3.6.2"
  }
 },
 "nbformat": 4,
 "nbformat_minor": 1
}
