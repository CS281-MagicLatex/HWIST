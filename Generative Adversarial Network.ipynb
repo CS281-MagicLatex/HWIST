{
 "cells": [
  {
   "cell_type": "code",
   "execution_count": 1,
   "metadata": {},
   "outputs": [],
   "source": [
    "import torch\n",
    "import torchvision\n",
    "import torch.nn as nn\n",
    "import torch.nn.functional as F\n",
    "from torchvision import datasets \n",
    "from torchvision import transforms\n",
    "from torchvision.utils import save_image\n",
    "from torch.autograd import Variable\n",
    "\n",
    "import numpy as np\n",
    "from matplotlib import pyplot as plt\n",
    "from scipy.misc import imread\n",
    "from PIL import Image\n",
    "%matplotlib inline\n",
    "\n",
    "import torch\n",
    "import torch.utils.data as data_utils\n",
    "from torch.autograd import Variable\n",
    "\n",
    "def to_var(x):\n",
    "    if torch.cuda.is_available():\n",
    "        x = x.cuda()\n",
    "    return Variable(x)\n",
    "\n",
    "def denorm(x):\n",
    "    out = (x + 1) / 2\n",
    "    return out.clamp(0, 1)\n",
    "\n",
    "# Image processing \n",
    "# transform = transforms.Compose([\n",
    "#                 transforms.ToTensor(),\n",
    "#                 transforms.Normalize(mean=(0.5, 0.5, 0.5), \n",
    "#                                      std=(0.5, 0.5, 0.5))])\n",
    "# # # MNIST dataset\n",
    "# mnist = datasets.MNIST(root='./data/',\n",
    "#                        train=True,\n",
    "#                        transform=transform,\n",
    "#                        download=True)\n",
    "# Data loader\n",
    "# data_loader = torch.utils.data.DataLoader(dataset=mnist,\n",
    "#                                           batch_size=100, \n",
    "#                                           shuffle=True)\n"
   ]
  },
  {
   "cell_type": "code",
   "execution_count": 2,
   "metadata": {
    "collapsed": true
   },
   "outputs": [],
   "source": [
    "with open('./im2latex_train.lst','rb') as file:\n",
    "    match = file.readlines()\n",
    "train_match_dict = {e.decode('utf-8').split(' ')[0] + '.png':e.decode('utf-8').split(' ')[1] + '.png' for e in match}"
   ]
  },
  {
   "cell_type": "code",
   "execution_count": 3,
   "metadata": {},
   "outputs": [],
   "source": [
    "def trim_pad(train_match_dict):\n",
    "    \n",
    "    hw_imgs, print_imgs = [], []\n",
    "    for i,hw in enumerate(list(train_match_dict.keys())):\n",
    "        \n",
    "        if i%1000 == 0:\n",
    "            print (\"load \",i,\" data\")\n",
    "        \n",
    "        #load matched filenames\n",
    "        pr = train_match_dict[hw]\n",
    "        \n",
    "        try:\n",
    "            #print\n",
    "            print_img = imread('data/latex_processed/'+pr)\n",
    "#             print_img_trim = trim(print_img)\n",
    "#             print_img_pad = pad_img(max_width, max_height, print_img_trim)\n",
    "#             print_img_bin = to_bin(print_img_pad,up=1)\n",
    "\n",
    "\n",
    "            #handwritten\n",
    "            hw_img = imread('data/handwritten_processed/'+hw)\n",
    "            print_imgs.append(print_img[:40,:253])\n",
    "            hw_imgs.append(hw_img[:40,:253])\n",
    "\n",
    "        except:\n",
    "            #image size exceed max size\n",
    "            pass\n",
    "        \n",
    "        \n",
    "        \n",
    "        \n",
    "    return hw_imgs, print_imgs"
   ]
  },
  {
   "cell_type": "code",
   "execution_count": 4,
   "metadata": {
    "scrolled": true
   },
   "outputs": [
    {
     "name": "stdout",
     "output_type": "stream",
     "text": [
      "load  0  data\n",
      "load  1000  data\n",
      "load  2000  data\n",
      "load  3000  data\n",
      "load  4000  data\n",
      "load  5000  data\n",
      "load  6000  data\n",
      "load  7000  data\n",
      "load  8000  data\n",
      "load  9000  data\n",
      "load  10000  data\n",
      "load  11000  data\n",
      "load  12000  data\n",
      "load  13000  data\n",
      "load  14000  data\n",
      "load  15000  data\n",
      "load  16000  data\n",
      "load  17000  data\n",
      "load  18000  data\n",
      "load  19000  data\n",
      "load  20000  data\n",
      "load  21000  data\n",
      "load  22000  data\n",
      "load  23000  data\n",
      "load  24000  data\n",
      "load  25000  data\n",
      "load  26000  data\n",
      "load  27000  data\n",
      "load  28000  data\n",
      "load  29000  data\n",
      "load  30000  data\n",
      "load  31000  data\n",
      "load  32000  data\n",
      "load  33000  data\n",
      "load  34000  data\n",
      "load  35000  data\n",
      "load  36000  data\n",
      "load  37000  data\n",
      "load  38000  data\n",
      "load  39000  data\n",
      "load  40000  data\n",
      "load  41000  data\n",
      "load  42000  data\n",
      "load  43000  data\n",
      "load  44000  data\n",
      "load  45000  data\n",
      "load  46000  data\n",
      "load  47000  data\n",
      "load  48000  data\n",
      "load  49000  data\n",
      "load  50000  data\n",
      "load  51000  data\n",
      "load  52000  data\n",
      "load  53000  data\n",
      "load  54000  data\n",
      "load  55000  data\n",
      "load  56000  data\n",
      "load  57000  data\n",
      "load  58000  data\n",
      "load  59000  data\n",
      "load  60000  data\n",
      "load  61000  data\n",
      "load  62000  data\n",
      "load  63000  data\n",
      "load  64000  data\n",
      "load  65000  data\n",
      "load  66000  data\n",
      "load  67000  data\n",
      "load  68000  data\n",
      "load  69000  data\n",
      "load  70000  data\n",
      "load  71000  data\n",
      "load  72000  data\n",
      "load  73000  data\n",
      "load  74000  data\n",
      "load  75000  data\n",
      "load  76000  data\n",
      "load  77000  data\n",
      "load  78000  data\n",
      "load  79000  data\n",
      "load  80000  data\n",
      "load  81000  data\n",
      "load  82000  data\n",
      "load  83000  data\n"
     ]
    }
   ],
   "source": [
    "print_imgs, hw_imgs = trim_pad(train_match_dict)"
   ]
  },
  {
   "cell_type": "code",
   "execution_count": 5,
   "metadata": {},
   "outputs": [
    {
     "data": {
      "text/plain": [
       "(80396, 1, 40, 253)"
      ]
     },
     "execution_count": 5,
     "metadata": {},
     "output_type": "execute_result"
    }
   ],
   "source": [
    "print_imgs_3d = np.concatenate([arr[np.newaxis] for arr in print_imgs])\n",
    "print_imgs_3d = np.expand_dims(print_imgs_3d, axis=1)\n",
    "print_imgs_3d.shape"
   ]
  },
  {
   "cell_type": "code",
   "execution_count": 6,
   "metadata": {},
   "outputs": [
    {
     "data": {
      "text/plain": [
       "(80396, 1, 40, 253)"
      ]
     },
     "execution_count": 6,
     "metadata": {},
     "output_type": "execute_result"
    }
   ],
   "source": [
    "hw_imgs_3d = np.concatenate([arr[np.newaxis] for arr in hw_imgs])\n",
    "hw_imgs_3d = np.expand_dims(hw_imgs_3d, axis=1)\n",
    "hw_imgs_3d.shape"
   ]
  },
  {
   "cell_type": "code",
   "execution_count": 7,
   "metadata": {
    "collapsed": true
   },
   "outputs": [],
   "source": [
    "features = torch.from_numpy(hw_imgs_3d).type(torch.FloatTensor)\n",
    "targets = torch.from_numpy(print_imgs_3d).type(torch.FloatTensor)"
   ]
  },
  {
   "cell_type": "code",
   "execution_count": 8,
   "metadata": {},
   "outputs": [],
   "source": [
    "batch_size = 100\n",
    "train = data_utils.TensorDataset(features, targets)\n",
    "train_loader = data_utils.DataLoader(train, batch_size=batch_size, shuffle=True)"
   ]
  },
  {
   "cell_type": "code",
   "execution_count": 11,
   "metadata": {
    "collapsed": true
   },
   "outputs": [],
   "source": [
    "Feature_size = 40 * 253"
   ]
  },
  {
   "cell_type": "code",
   "execution_count": 12,
   "metadata": {},
   "outputs": [],
   "source": [
    "size_1  = 40\n",
    "size_2 = 253"
   ]
  },
  {
   "cell_type": "code",
   "execution_count": null,
   "metadata": {},
   "outputs": [
    {
     "name": "stderr",
     "output_type": "stream",
     "text": [
      "/Users/yutingsun/anaconda/lib/python3.6/site-packages/torch/nn/functional.py:767: UserWarning: Using a target size (torch.Size([100])) that is different to the input size (torch.Size([100, 1])) is deprecated. Please ensure they have the same size.\n",
      "  \"Please ensure they have the same size.\".format(target.size(), input.size()))\n"
     ]
    },
    {
     "name": "stdout",
     "output_type": "stream",
     "text": [
      "Epoch [0/200], Step[300/600], d_loss: 0.0020, g_loss: 6.3212, D(x): 1.00, D(G(z)): 0.00\n",
      "Epoch [0/200], Step[600/600], d_loss: 0.0014, g_loss: 6.8058, D(x): 1.00, D(G(z)): 0.00\n"
     ]
    },
    {
     "name": "stderr",
     "output_type": "stream",
     "text": [
      "/Users/yutingsun/anaconda/lib/python3.6/site-packages/torch/nn/functional.py:767: UserWarning: Using a target size (torch.Size([96])) that is different to the input size (torch.Size([96, 1])) is deprecated. Please ensure they have the same size.\n",
      "  \"Please ensure they have the same size.\".format(target.size(), input.size()))\n"
     ]
    },
    {
     "name": "stdout",
     "output_type": "stream",
     "text": [
      "Epoch [1/200], Step[300/600], d_loss: 0.0002, g_loss: 8.7553, D(x): 1.00, D(G(z)): 0.00\n",
      "Epoch [1/200], Step[600/600], d_loss: 0.0002, g_loss: 8.4607, D(x): 1.00, D(G(z)): 0.00\n",
      "Epoch [2/200], Step[300/600], d_loss: 0.0001, g_loss: 9.1081, D(x): 1.00, D(G(z)): 0.00\n",
      "Epoch [2/200], Step[600/600], d_loss: 0.0002, g_loss: 8.5008, D(x): 1.00, D(G(z)): 0.00\n",
      "Epoch [3/200], Step[300/600], d_loss: 0.0001, g_loss: 9.0091, D(x): 1.00, D(G(z)): 0.00\n",
      "Epoch [3/200], Step[600/600], d_loss: 0.0001, g_loss: 9.8136, D(x): 1.00, D(G(z)): 0.00\n",
      "Epoch [4/200], Step[300/600], d_loss: 0.0000, g_loss: 10.2329, D(x): 1.00, D(G(z)): 0.00\n",
      "Epoch [4/200], Step[600/600], d_loss: 0.0001, g_loss: 9.4158, D(x): 1.00, D(G(z)): 0.00\n",
      "Epoch [5/200], Step[300/600], d_loss: 0.0000, g_loss: 10.7508, D(x): 1.00, D(G(z)): 0.00\n",
      "Epoch [5/200], Step[600/600], d_loss: 0.0000, g_loss: 11.8505, D(x): 1.00, D(G(z)): 0.00\n",
      "Epoch [6/200], Step[300/600], d_loss: 0.0000, g_loss: 11.3672, D(x): 1.00, D(G(z)): 0.00\n",
      "Epoch [6/200], Step[600/600], d_loss: 0.0000, g_loss: 11.1010, D(x): 1.00, D(G(z)): 0.00\n",
      "Epoch [7/200], Step[300/600], d_loss: 0.0000, g_loss: 12.2669, D(x): 1.00, D(G(z)): 0.00\n",
      "Epoch [7/200], Step[600/600], d_loss: 0.0000, g_loss: 12.6664, D(x): 1.00, D(G(z)): 0.00\n"
     ]
    }
   ],
   "source": [
    "# Discriminator\n",
    "D = nn.Sequential(\n",
    "    nn.Linear(Feature_size, 256),\n",
    "    nn.LeakyReLU(0.2),\n",
    "    nn.Linear(256, 256),\n",
    "    nn.LeakyReLU(0.2),\n",
    "    nn.Linear(256, 1),\n",
    "    nn.Sigmoid())\n",
    "\n",
    "# Generator \n",
    "G = nn.Sequential(\n",
    "    nn.Linear(Feature_size, 256),\n",
    "    nn.LeakyReLU(0.2),\n",
    "    nn.Linear(256, 256),\n",
    "    nn.LeakyReLU(0.2),\n",
    "    nn.Linear(256, Feature_size),\n",
    "    nn.Tanh())\n",
    "\n",
    "if torch.cuda.is_available():\n",
    "    D.cuda()\n",
    "    G.cuda()\n",
    "\n",
    "# Binary cross entropy loss and optimizer\n",
    "criterion = nn.BCELoss()\n",
    "d_optimizer = torch.optim.Adam(D.parameters(), lr=0.0003)\n",
    "g_optimizer = torch.optim.Adam(G.parameters(), lr=0.0003)\n",
    "\n",
    "# Start training\n",
    "for epoch in range(100):\n",
    "    i = 0\n",
    "    for hws , images in train_loader:\n",
    "        i += 1\n",
    "        # Build mini-batch dataset\n",
    "        batch_size = images.size(0)\n",
    "        images = to_var(images.view(batch_size, -1))\n",
    "        \n",
    "        # Create the labels which are later used as input for the BCE loss\n",
    "        real_labels = to_var(torch.ones(batch_size))\n",
    "        fake_labels = to_var(torch.zeros(batch_size))\n",
    "\n",
    "        #============= Train the discriminator =============#\n",
    "        # Compute BCE_Loss using real images where BCE_Loss(x, y): - y * log(D(x)) - (1-y) * log(1 - D(x))\n",
    "        # Second term of the loss is always zero since real_labels == 1\n",
    "        outputs = D(images)\n",
    "        d_loss_real = criterion(outputs, real_labels)\n",
    "        real_score = outputs\n",
    "        \n",
    "        # Compute BCELoss using fake images\n",
    "        # First term of the loss is always zero since fake_labels == 0\n",
    "        hw = to_var(hws.view(batch_size, -1))\n",
    "        #z = to_var(torch.randn(batch_size, 64))\n",
    "        fake_images = G(hw)\n",
    "        outputs = D(fake_images)\n",
    "        d_loss_fake = criterion(outputs, fake_labels)\n",
    "        fake_score = outputs\n",
    "        \n",
    "        # Backprop + Optimize\n",
    "        d_loss = d_loss_real + d_loss_fake\n",
    "        D.zero_grad()\n",
    "        d_loss.backward()\n",
    "        d_optimizer.step()\n",
    "        \n",
    "        #=============== Train the generator ===============#\n",
    "        # Compute loss with fake images\n",
    "#         z = to_var(torch.randn(batch_size, 64))\n",
    "#         fake_images = G(z)\n",
    "        hw = to_var(hws.view(batch_size, -1))\n",
    "        #z = to_var(torch.randn(batch_size, 64))\n",
    "        fake_images = G(hw)\n",
    "        outputs = D(fake_images)\n",
    "        \n",
    "        # We train G to maximize log(D(G(z)) instead of minimizing log(1-D(G(z)))\n",
    "        # For the reason, see the last paragraph of section 3. https://arxiv.org/pdf/1406.2661.pdf\n",
    "        g_loss = criterion(outputs, real_labels)\n",
    "        \n",
    "        # Backprop + Optimize\n",
    "        D.zero_grad()\n",
    "        G.zero_grad()\n",
    "        g_loss.backward(retain_graph=True)\n",
    "        g_optimizer.step()\n",
    "        \n",
    "        if (i+1) % 300 == 0:\n",
    "            print('Epoch [%d/%d], Step[%d/%d], d_loss: %.4f, '\n",
    "                  'g_loss: %.4f, D(x): %.2f, D(G(z)): %.2f' \n",
    "                  %(epoch, 200, i+1, 600, d_loss.data[0], g_loss.data[0],\n",
    "                    real_score.data.mean(), fake_score.data.mean()))\n",
    "    \n",
    "    # Save real images\n",
    "    if (epoch+1) == 1:\n",
    "        images = images.view(images.size(0), 1, size_1, size_2)\n",
    "        save_image(denorm(images.data), './data/real_images.png')\n",
    "    \n",
    "    # Save sampled images\n",
    "    fake_images = fake_images.view(fake_images.size(0), 1, size_1, size_2)\n",
    "    save_image(denorm(fake_images.data), './data/fake_images-%d.png' %(epoch+1))\n",
    "\n",
    "# Save the trained parameters \n",
    "torch.save(G.state_dict(), './generator.pkl')\n",
    "torch.save(D.state_dict(), './discriminator.pkl')"
   ]
  },
  {
   "cell_type": "code",
   "execution_count": 25,
   "metadata": {},
   "outputs": [
    {
     "data": {
      "text/plain": [
       "Variable containing:\n",
       "  255   255   255  ...    255   255   255\n",
       "  255   255   255  ...    255   255   255\n",
       "  255   255   255  ...    255   255   255\n",
       "       ...          ⋱          ...       \n",
       "  255   255   255  ...    255   255   255\n",
       "  255   255   255  ...    255   255   255\n",
       "  255   255   255  ...    255   255   255\n",
       "[torch.FloatTensor of size 100x10120]"
      ]
     },
     "execution_count": 25,
     "metadata": {},
     "output_type": "execute_result"
    }
   ],
   "source": [
    "to_var(hw.view(batch_size, -1))"
   ]
  },
  {
   "cell_type": "code",
   "execution_count": 26,
   "metadata": {},
   "outputs": [
    {
     "data": {
      "text/plain": [
       "10120"
      ]
     },
     "execution_count": 26,
     "metadata": {},
     "output_type": "execute_result"
    }
   ],
   "source": [
    "40*253"
   ]
  },
  {
   "cell_type": "code",
   "execution_count": 22,
   "metadata": {},
   "outputs": [],
   "source": [
    "x = fake_images.data.numpy()[0].reshape(40,253)"
   ]
  },
  {
   "cell_type": "markdown",
   "metadata": {},
   "source": [
    "##  miscellaneous"
   ]
  },
  {
   "cell_type": "code",
   "execution_count": 23,
   "metadata": {},
   "outputs": [
    {
     "data": {
      "text/plain": [
       "<matplotlib.image.AxesImage at 0x111a406a0>"
      ]
     },
     "execution_count": 23,
     "metadata": {},
     "output_type": "execute_result"
    },
    {
     "data": {
      "image/png": "[encoded data removed]",
      "text/plain": [
       "<matplotlib.figure.Figure at 0x1139a29b0>"
      ]
     },
     "metadata": {},
     "output_type": "display_data"
    }
   ],
   "source": [
    "plt.imshow(x)"
   ]
  }
 ],
 "metadata": {
  "kernelspec": {
   "display_name": "Python 3",
   "language": "python",
   "name": "python3"
  },
  "language_info": {
   "codemirror_mode": {
    "name": "ipython",
    "version": 3
   },
   "file_extension": ".py",
   "mimetype": "text/x-python",
   "name": "python",
   "nbconvert_exporter": "python",
   "pygments_lexer": "ipython3",
   "version": "3.6.1"
  }
 },
 "nbformat": 4,
 "nbformat_minor": 2
}
